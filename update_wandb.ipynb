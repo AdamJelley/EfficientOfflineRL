{
 "cells": [
  {
   "cell_type": "code",
   "execution_count": null,
   "metadata": {},
   "outputs": [],
   "source": [
    "import wandb\n",
    "\n",
    "api = wandb.Api()\n",
    "count = 0\n",
    "for r in api.runs(\"adamjelley/offline-RL-init\"):\n",
    "    if r.group == \"full-replay\" and \"Old\" in r.name:\n",
    "        print(f\"Updating {r.name} with {r.group}\")\n",
    "        count += 1\n",
    "        r.group = \"old-full-replay\"\n",
    "        r.update()\n",
    "print(count)"
   ]
  },
  {
   "cell_type": "code",
   "execution_count": null,
   "metadata": {},
   "outputs": [],
   "source": [
    "import wandb\n",
    "import json\n",
    "\n",
    "api = wandb.Api()\n",
    "count = 0\n",
    "count2 = 0\n",
    "for r in api.runs(\"adamjelley/offline-RL-init\"):\n",
    "    if r.group == \"full-replay\":\n",
    "        config = json.loads(r.json_config)\n",
    "        if \"pretrain\" in config.keys() and (\n",
    "            config[\"pretrain\"][\"value\"] == \"softAC\"\n",
    "            or config[\"pretrain\"][\"value\"] == \"AC\"\n",
    "        ):\n",
    "            count += 1\n",
    "            old_name = r.name\n",
    "            r.name = \"Pretrain-\" + r.name\n",
    "            print(f\"Updating {old_name} to {r.name} in group {r.group}\")\n",
    "        if \"actor_LN\" in config.keys() and (config[\"actor_LN\"][\"value\"] == False):\n",
    "            old_name = r.name\n",
    "            r.name = \"NoLN-\" + r.name\n",
    "            count2 += 1\n",
    "            print(f\"Updating {old_name} to {r.name} in group {r.group}\")\n",
    "        # r.update()\n",
    "print(count)\n",
    "print(count2)"
   ]
  },
  {
   "cell_type": "code",
   "execution_count": null,
   "metadata": {},
   "outputs": [],
   "source": [
    "import os\n",
    "import shutil\n",
    "import yaml\n",
    "\n",
    "old_directory = \"/disk/scratch1/adamjelley/OfflineRL/checkpoints/prod\"  # replace with your directory path\n",
    "new_directory = \"/disk/scratch1/adamjelley/OfflineRL/checkpoints/test\"  # replace with your directory path\n",
    "# Iterate over all subdirectories of the specified directory\n",
    "count = 0\n",
    "os.mkdir(new_directory)\n",
    "for subdir in os.listdir(old_directory):\n",
    "    # If 'human' is in the name of the subdirectory\n",
    "    if \"pen\" in subdir and \"cloned\" in subdir:\n",
    "        config_file = os.path.join(old_directory, subdir, \"config.yaml\")\n",
    "        with open(config_file, \"r\") as file:\n",
    "            config = yaml.safe_load(file)\n",
    "            if \"alpha\" in config:\n",
    "                if config[\"alpha\"] == 0.1:\n",
    "                    count += 1\n",
    "                    print(subdir)\n",
    "                    # subdir_path = os.path.join(old_directory, subdir)\n",
    "                    # shutil.move(subdir_path, new_directory)\n",
    "print(count)"
   ]
  },
  {
   "cell_type": "code",
   "execution_count": null,
   "metadata": {},
   "outputs": [],
   "source": [
    "directory = \"/disk/scratch1/adamjelley/OfflineRL/checkpoints/prod\"  # replace with your directory path\n",
    "all_results = defaultdict(list)\n",
    "count = 0\n",
    "# Iterate over all subdirectories of the specified directory\n",
    "for subdir in os.listdir(directory):\n",
    "    # If 'human' is in the name of the subdirectory\n",
    "    if \"cloned\" in subdir:\n",
    "        # Construct the full path to the 'results' file in the subdirectory\n",
    "        config_file = os.path.join(directory, subdir, \"config.yaml\")\n",
    "        name = subdir.split(\"_\")[2]\n",
    "        with open(config_file, \"r\") as file:\n",
    "            config = yaml.safe_load(file)\n",
    "            if \"pretrain\" in config:\n",
    "                if config[\"pretrain\"] is not None:\n",
    "                    name = \"Pre-trained-\" + name\n",
    "        new_subdir = \"_\".join(subdir.split(\"_\")[:2] + [name] + subdir.split(\"_\")[3:])\n",
    "        old_path = os.path.join(directory, subdir)\n",
    "        new_path = os.path.join(directory, new_subdir)\n",
    "        if old_path != new_path:\n",
    "            print(old_path, new_path)\n",
    "            count += 1\n",
    "            # os.rename(old_path, new_path)\n",
    "print(count)"
   ]
  }
 ],
 "metadata": {
  "kernelspec": {
   "display_name": "CORL",
   "language": "python",
   "name": "python3"
  },
  "language_info": {
   "codemirror_mode": {
    "name": "ipython",
    "version": 3
   },
   "file_extension": ".py",
   "mimetype": "text/x-python",
   "name": "python",
   "nbconvert_exporter": "python",
   "pygments_lexer": "ipython3",
   "version": "3.10.9"
  }
 },
 "nbformat": 4,
 "nbformat_minor": 2
}
