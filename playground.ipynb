{
 "cells": [
  {
   "cell_type": "code",
   "execution_count": 2,
   "metadata": {},
   "outputs": [
    {
     "name": "stderr",
     "output_type": "stream",
     "text": [
      "/disk/scratch1/adamjelley/miniconda3/envs/CORL/lib/python3.10/site-packages/tqdm/auto.py:22: TqdmWarning: IProgress not found. Please update jupyter and ipywidgets. See https://ipywidgets.readthedocs.io/en/stable/user_install.html\n",
      "  from .autonotebook import tqdm as notebook_tqdm\n"
     ]
    }
   ],
   "source": [
    "import math\n",
    "import torch\n",
    "import torch.nn as nn\n",
    "from kernels import RBF\n",
    "from copy import deepcopy\n"
   ]
  },
  {
   "cell_type": "code",
   "execution_count": 3,
   "metadata": {},
   "outputs": [],
   "source": [
    "K = RBF()\n"
   ]
  },
  {
   "cell_type": "code",
   "execution_count": 4,
   "metadata": {},
   "outputs": [],
   "source": [
    "X = torch.randn(4, 5)\n",
    "Y = torch.randn(8, 5)\n"
   ]
  },
  {
   "cell_type": "code",
   "execution_count": 5,
   "metadata": {},
   "outputs": [
    {
     "data": {
      "text/plain": [
       "torch.Size([4, 8])"
      ]
     },
     "execution_count": 5,
     "metadata": {},
     "output_type": "execute_result"
    }
   ],
   "source": [
    "K(X, Y).shape\n"
   ]
  },
  {
   "cell_type": "code",
   "execution_count": 6,
   "metadata": {},
   "outputs": [
    {
     "data": {
      "text/plain": [
       "tensor([[-1.4335,  0.5734,  0.0320, -1.6215, -1.4939],\n",
       "        [-0.1914, -0.1111,  0.8338,  0.2083, -0.3777],\n",
       "        [-0.2607, -1.0506,  0.0431, -0.1642,  0.5468],\n",
       "        [-0.0816, -0.8182,  0.3603,  0.6003, -0.8229]])"
      ]
     },
     "execution_count": 6,
     "metadata": {},
     "output_type": "execute_result"
    }
   ],
   "source": [
    "X\n"
   ]
  },
  {
   "cell_type": "code",
   "execution_count": 7,
   "metadata": {},
   "outputs": [
    {
     "data": {
      "text/plain": [
       "tensor([[1.0000, 0.0108, 0.0016, 0.0031],\n",
       "        [0.0108, 1.0000, 0.2090, 0.5068],\n",
       "        [0.0016, 0.2090, 1.0000, 0.1914],\n",
       "        [0.0031, 0.5068, 0.1914, 1.0000]])"
      ]
     },
     "execution_count": 7,
     "metadata": {},
     "output_type": "execute_result"
    }
   ],
   "source": [
    "K(X, X)\n"
   ]
  },
  {
   "cell_type": "code",
   "execution_count": 8,
   "metadata": {},
   "outputs": [
    {
     "data": {
      "text/plain": [
       "tensor([[ 1.4444,  1.2142,  2.0666,  0.2998, -0.2833],\n",
       "        [-0.9098, -0.8398, -0.5643, -1.2406,  0.7542],\n",
       "        [ 0.2916,  0.9453,  0.0495,  0.4850,  0.7981],\n",
       "        [-1.7931, -0.5190,  0.2280,  0.3369, -1.2903],\n",
       "        [-0.0423,  2.1562,  0.0412,  0.6128, -0.2299],\n",
       "        [ 0.0770, -0.0808, -0.2820,  0.0927, -0.1821],\n",
       "        [-0.7883,  0.3864,  1.6741,  0.2237, -0.6312],\n",
       "        [-0.5955, -0.4297,  0.8611, -1.2079, -0.0347]])"
      ]
     },
     "execution_count": 8,
     "metadata": {},
     "output_type": "execute_result"
    }
   ],
   "source": [
    "Y\n"
   ]
  },
  {
   "cell_type": "code",
   "execution_count": 9,
   "metadata": {},
   "outputs": [],
   "source": [
    "class VectorizedLinear(nn.Module):\n",
    "    def __init__(self, in_features: int, out_features: int, ensemble_size: int):\n",
    "        super().__init__()\n",
    "        self.in_features = in_features\n",
    "        self.out_features = out_features\n",
    "        self.ensemble_size = ensemble_size\n",
    "\n",
    "        self.weight = nn.Parameter(torch.empty(ensemble_size, in_features, out_features))\n",
    "        self.bias = nn.Parameter(torch.empty(ensemble_size, 1, out_features))\n",
    "\n",
    "        self.reset_parameters()\n",
    "\n",
    "    def reset_parameters(self):\n",
    "        # default pytorch init for nn.Linear module\n",
    "        for layer in range(self.ensemble_size):\n",
    "            nn.init.kaiming_uniform_(self.weight[layer], a=math.sqrt(5))\n",
    "\n",
    "        fan_in, _ = nn.init._calculate_fan_in_and_fan_out(self.weight[0])\n",
    "        bound = 1 / math.sqrt(fan_in) if fan_in > 0 else 0\n",
    "        nn.init.uniform_(self.bias, -bound, bound)\n",
    "\n",
    "    def forward(self, x: torch.Tensor) -> torch.Tensor:\n",
    "        # input: [ensemble_size, batch_size, input_size]\n",
    "        # weight: [ensemble_size, input_size, out_size]\n",
    "        # out: [ensemble_size, batch_size, out_size]\n",
    "        return x @ self.weight + self.bias\n"
   ]
  },
  {
   "cell_type": "code",
   "execution_count": 10,
   "metadata": {},
   "outputs": [],
   "source": [
    "class VectorizedCritic(nn.Module):\n",
    "    def __init__(\n",
    "        self, state_dim: int, action_dim: int, hidden_dim: int, num_critics: int\n",
    "    ):\n",
    "        super().__init__()\n",
    "        self.critic = nn.Sequential(\n",
    "            VectorizedLinear(state_dim + action_dim, hidden_dim, num_critics),\n",
    "            nn.ReLU(),\n",
    "            VectorizedLinear(hidden_dim, hidden_dim, num_critics),\n",
    "            nn.ReLU(),\n",
    "            VectorizedLinear(hidden_dim, hidden_dim, num_critics),\n",
    "            nn.ReLU(),\n",
    "            VectorizedLinear(hidden_dim, 1, num_critics),\n",
    "        )\n",
    "        # init as in the EDAC paper\n",
    "        for layer in self.critic[::2]:\n",
    "            torch.nn.init.constant_(layer.bias, 0.1)\n",
    "\n",
    "        torch.nn.init.uniform_(self.critic[-1].weight, -3e-3, 3e-3)\n",
    "        torch.nn.init.uniform_(self.critic[-1].bias, -3e-3, 3e-3)\n",
    "\n",
    "        self.num_critics = num_critics\n",
    "\n",
    "    def forward(self, state: torch.Tensor, action: torch.Tensor) -> torch.Tensor:\n",
    "        # [..., batch_size, state_dim + action_dim]\n",
    "        state_action = torch.cat([state, action], dim=-1)\n",
    "        if state_action.dim() != 3:\n",
    "            assert state_action.dim() == 2\n",
    "            # [num_critics, batch_size, state_dim + action_dim]\n",
    "            state_action = state_action.unsqueeze(0).repeat_interleave(\n",
    "                self.num_critics, dim=0\n",
    "            )\n",
    "        assert state_action.dim() == 3\n",
    "        assert state_action.shape[0] == self.num_critics\n",
    "        # [num_critics, batch_size]\n",
    "        q_values = self.critic(state_action).squeeze(-1)\n",
    "        return q_values\n"
   ]
  },
  {
   "cell_type": "code",
   "execution_count": 11,
   "metadata": {},
   "outputs": [],
   "source": [
    "critic = VectorizedCritic(17, 6, 256, 10)\n"
   ]
  },
  {
   "cell_type": "code",
   "execution_count": 12,
   "metadata": {},
   "outputs": [
    {
     "name": "stdout",
     "output_type": "stream",
     "text": [
      "torch.Size([10, 10])\n",
      "torch.Size([10, 10])\n",
      "torch.Size([10, 10])\n",
      "torch.Size([10, 10])\n",
      "torch.Size([10, 10])\n",
      "torch.Size([10, 10])\n",
      "torch.Size([10, 10])\n",
      "torch.Size([10, 10])\n"
     ]
    }
   ],
   "source": [
    "for parameters in critic.parameters():\n",
    "    parameters = parameters.reshape(10, -1)\n",
    "    kernel_values = K(parameters, parameters.detach())\n",
    "    print(kernel_values.shape)\n"
   ]
  },
  {
   "cell_type": "code",
   "execution_count": 13,
   "metadata": {},
   "outputs": [],
   "source": [
    "all_parameters = torch.cat(\n",
    "    [parameters.reshape(10, -1) for parameters in critic.parameters()], dim=1\n",
    ")\n",
    "kernel_values = K(all_parameters, all_parameters.detach())\n"
   ]
  },
  {
   "cell_type": "code",
   "execution_count": 14,
   "metadata": {},
   "outputs": [],
   "source": [
    "kernel_grads = torch.autograd.grad(kernel_values.sum(), all_parameters)[0]\n"
   ]
  },
  {
   "cell_type": "code",
   "execution_count": 15,
   "metadata": {},
   "outputs": [
    {
     "data": {
      "text/plain": [
       "torch.Size([])"
      ]
     },
     "execution_count": 15,
     "metadata": {},
     "output_type": "execute_result"
    }
   ],
   "source": [
    "kernel_grads[0].mean(0).shape\n",
    "# kernel_grads.shape\n"
   ]
  },
  {
   "cell_type": "code",
   "execution_count": 16,
   "metadata": {},
   "outputs": [
    {
     "data": {
      "text/plain": [
       "torch.Size([10, 137985])"
      ]
     },
     "execution_count": 16,
     "metadata": {},
     "output_type": "execute_result"
    }
   ],
   "source": [
    "kernel_grads[0].shape\n",
    "all_parameters.shape\n"
   ]
  },
  {
   "cell_type": "code",
   "execution_count": 17,
   "metadata": {},
   "outputs": [
    {
     "name": "stdout",
     "output_type": "stream",
     "text": [
      "torch.Size([3, 10, 6])\n",
      "torch.Size([3, 10, 17])\n"
     ]
    },
    {
     "ename": "RuntimeError",
     "evalue": "Sizes of tensors must match except in dimension 1. Expected size 17 but got size 6 for tensor number 1 in the list.",
     "output_type": "error",
     "traceback": [
      "\u001b[0;31m---------------------------------------------------------------------------\u001b[0m",
      "\u001b[0;31mRuntimeError\u001b[0m                              Traceback (most recent call last)",
      "Cell \u001b[0;32mIn[17], line 5\u001b[0m\n\u001b[1;32m      3\u001b[0m \u001b[39mprint\u001b[39m(actions\u001b[39m.\u001b[39mshape)\n\u001b[1;32m      4\u001b[0m \u001b[39mprint\u001b[39m(states\u001b[39m.\u001b[39mshape)\n\u001b[0;32m----> 5\u001b[0m currentQ \u001b[39m=\u001b[39m torch\u001b[39m.\u001b[39;49mcat([states, actions], dim\u001b[39m=\u001b[39;49m\u001b[39m1\u001b[39;49m)\u001b[39m.\u001b[39mmean(\u001b[39m0\u001b[39m, keepdim\u001b[39m=\u001b[39m\u001b[39mTrue\u001b[39;00m)\n\u001b[1;32m      6\u001b[0m indices\u001b[39m=\u001b[39mcurrentQ\u001b[39m.\u001b[39mmax(\u001b[39m1\u001b[39m)\u001b[39m.\u001b[39mindices\n\u001b[1;32m      7\u001b[0m states[\u001b[39m0\u001b[39m,\u001b[39m15\u001b[39m]\n",
      "\u001b[0;31mRuntimeError\u001b[0m: Sizes of tensors must match except in dimension 1. Expected size 17 but got size 6 for tensor number 1 in the list."
     ]
    }
   ],
   "source": [
    "actions = torch.stack(\n",
    "    [torch.stack([torch.randn(6) for i in range(10)], dim=0) for i in range(3)], dim=0\n",
    ")\n",
    "states = torch.stack([torch.randn(17).repeat(10, 1) for i in range(3)], dim=0)\n",
    "print(actions.shape)\n",
    "print(states.shape)\n",
    "currentQ = torch.cat([states, actions], dim=1).mean(0, keepdim=True)\n",
    "indices = currentQ.max(1).indices\n",
    "states[0, 15]\n",
    "states[0, indices]\n",
    "# indices=currentQ.max(dim=1).indices\n"
   ]
  },
  {
   "cell_type": "code",
   "execution_count": 18,
   "metadata": {},
   "outputs": [],
   "source": [
    "optimizer = torch.optim.Adam(critic.parameters(), lr=0.1)\n"
   ]
  },
  {
   "cell_type": "code",
   "execution_count": 147,
   "metadata": {},
   "outputs": [
    {
     "name": "stdout",
     "output_type": "stream",
     "text": [
      "tensor([[[0., 0., 0.,  ..., 0., 0., 0.],\n",
      "         [0., 0., 0.,  ..., 0., 0., 0.],\n",
      "         [0., 0., 0.,  ..., 0., 0., 0.],\n",
      "         ...,\n",
      "         [0., 0., 0.,  ..., 0., 0., 0.],\n",
      "         [0., 0., 0.,  ..., 0., 0., 0.],\n",
      "         [0., 0., 0.,  ..., 0., 0., 0.]],\n",
      "\n",
      "        [[0., 0., 0.,  ..., 0., 0., 0.],\n",
      "         [0., 0., 0.,  ..., 0., 0., 0.],\n",
      "         [0., 0., 0.,  ..., 0., 0., 0.],\n",
      "         ...,\n",
      "         [0., 0., 0.,  ..., 0., 0., 0.],\n",
      "         [0., 0., 0.,  ..., 0., 0., 0.],\n",
      "         [0., 0., 0.,  ..., 0., 0., 0.]],\n",
      "\n",
      "        [[0., 0., 0.,  ..., 0., 0., 0.],\n",
      "         [0., 0., 0.,  ..., 0., 0., 0.],\n",
      "         [0., 0., 0.,  ..., 0., 0., 0.],\n",
      "         ...,\n",
      "         [0., 0., 0.,  ..., 0., 0., 0.],\n",
      "         [0., 0., 0.,  ..., 0., 0., 0.],\n",
      "         [0., 0., 0.,  ..., 0., 0., 0.]],\n",
      "\n",
      "        ...,\n",
      "\n",
      "        [[0., 0., 0.,  ..., 0., 0., 0.],\n",
      "         [0., 0., 0.,  ..., 0., 0., 0.],\n",
      "         [0., 0., 0.,  ..., 0., 0., 0.],\n",
      "         ...,\n",
      "         [0., 0., 0.,  ..., 0., 0., 0.],\n",
      "         [0., 0., 0.,  ..., 0., 0., 0.],\n",
      "         [0., 0., 0.,  ..., 0., 0., 0.]],\n",
      "\n",
      "        [[0., 0., 0.,  ..., 0., 0., 0.],\n",
      "         [0., 0., 0.,  ..., 0., 0., 0.],\n",
      "         [0., 0., 0.,  ..., 0., 0., 0.],\n",
      "         ...,\n",
      "         [0., 0., 0.,  ..., 0., 0., 0.],\n",
      "         [0., 0., 0.,  ..., 0., 0., 0.],\n",
      "         [0., 0., 0.,  ..., 0., 0., 0.]],\n",
      "\n",
      "        [[0., 0., 0.,  ..., 0., 0., 0.],\n",
      "         [0., 0., 0.,  ..., 0., 0., 0.],\n",
      "         [0., 0., 0.,  ..., 0., 0., 0.],\n",
      "         ...,\n",
      "         [0., 0., 0.,  ..., 0., 0., 0.],\n",
      "         [0., 0., 0.,  ..., 0., 0., 0.],\n",
      "         [0., 0., 0.,  ..., 0., 0., 0.]]])\n"
     ]
    }
   ],
   "source": [
    "type(optimizer.param_groups[0][\"params\"])\n",
    "param_grads = [param.grad for param in optimizer.param_groups[0][\"params\"]]\n",
    "print(param_grads[0])\n",
    "optimizer.zero_grad()\n",
    "for param in optimizer.param_groups[0][\"params\"]:\n",
    "    param.grad = torch.ones_like(param)\n"
   ]
  },
  {
   "cell_type": "code",
   "execution_count": 151,
   "metadata": {},
   "outputs": [
    {
     "ename": "AttributeError",
     "evalue": "'list' object has no attribute 'grad'",
     "output_type": "error",
     "traceback": [
      "\u001b[0;31m---------------------------------------------------------------------------\u001b[0m",
      "\u001b[0;31mAttributeError\u001b[0m                            Traceback (most recent call last)",
      "Cell \u001b[0;32mIn[151], line 1\u001b[0m\n\u001b[0;32m----> 1\u001b[0m optimizer\u001b[39m.\u001b[39;49mparam_groups[\u001b[39m0\u001b[39;49m][\u001b[39m\"\u001b[39;49m\u001b[39mparams\u001b[39;49m\u001b[39m\"\u001b[39;49m]\u001b[39m.\u001b[39;49mgrad\n",
      "\u001b[0;31mAttributeError\u001b[0m: 'list' object has no attribute 'grad'"
     ]
    }
   ],
   "source": [
    "optimizer.param_groups[0][\"params\"].grad\n"
   ]
  },
  {
   "cell_type": "code",
   "execution_count": 99,
   "metadata": {},
   "outputs": [
    {
     "data": {
      "text/plain": [
       "torch.Size([10, 137985])"
      ]
     },
     "execution_count": 99,
     "metadata": {},
     "output_type": "execute_result"
    }
   ],
   "source": [
    "all_grad = torch.cat(\n",
    "    [param.grad.view(10, -1) for param in optimizer.param_groups[0][\"params\"]], dim=1\n",
    ")\n",
    "all_grad.shape\n"
   ]
  },
  {
   "cell_type": "code",
   "execution_count": 103,
   "metadata": {},
   "outputs": [
    {
     "ename": "SyntaxError",
     "evalue": "cannot assign to function call here. Maybe you meant '==' instead of '='? (448636623.py, line 2)",
     "output_type": "error",
     "traceback": [
      "\u001b[0;36m  Cell \u001b[0;32mIn[103], line 2\u001b[0;36m\u001b[0m\n\u001b[0;31m    torch.cat([param.grad.reshape(10,-1) for param in optimizer.param_groups[0]['params']], dim=1) = all_grad\u001b[0m\n\u001b[0m    ^\u001b[0m\n\u001b[0;31mSyntaxError\u001b[0m\u001b[0;31m:\u001b[0m cannot assign to function call here. Maybe you meant '==' instead of '='?\n"
     ]
    }
   ],
   "source": [
    "optimizer.zero_grad()\n",
    "torch.cat([param.grad.reshape(10,-1) for param in optimizer.param_groups[0]['params']], dim=1) = all_grad"
   ]
  },
  {
   "cell_type": "code",
   "execution_count": 56,
   "metadata": {},
   "outputs": [],
   "source": [
    "all_parameters = torch.cat(\n",
    "    [parameters.reshape(10, -1) for parameters in optimizer.param_groups[0][\"params\"]],\n",
    "    dim=1,\n",
    ").retain_grad()\n"
   ]
  },
  {
   "cell_type": "code",
   "execution_count": 137,
   "metadata": {},
   "outputs": [
    {
     "name": "stdout",
     "output_type": "stream",
     "text": [
      "torch.Size([10, 10])\n"
     ]
    }
   ],
   "source": [
    "actions = torch.stack([torch.randn(6) for i in range(10)], dim=0)\n",
    "states = torch.randn(17).repeat(10, 1)\n",
    "q_target = torch.randn(10, 1)\n",
    "q_values = critic(states, actions)\n",
    "print(q_values.shape)\n",
    "# [ensemble_size, batch_size] - [1, batch_size]\n",
    "critic_loss = ((q_values - q_target.view(1, -1)) ** 2).mean(dim=1).sum(dim=0)\n",
    "[param.retain_grad() for param in optimizer.param_groups[0][\"params\"]]\n",
    "critic_loss.backward()\n"
   ]
  },
  {
   "cell_type": "code",
   "execution_count": null,
   "metadata": {},
   "outputs": [],
   "source": [
    "actions = torch.stack([torch.randn(6) for i in range(10)], dim=0)\n",
    "states = torch.randn(17).repeat(10, 1)\n",
    "q_values = critic(states, actions)\n"
   ]
  },
  {
   "cell_type": "code",
   "execution_count": null,
   "metadata": {},
   "outputs": [],
   "source": [
    "class SVGD:\n",
    "    def __init__(self, kernel, optimizer):\n",
    "        self.K = kernel\n",
    "        self.optim = optimizer\n",
    "        self.params = torch.cat(\n",
    "            [\n",
    "                parameters.reshape(10, -1)\n",
    "                for parameters in self.optim.param_groups[0][\"params\"]\n",
    "            ],\n",
    "            dim=1,\n",
    "        )\n",
    "\n",
    "    def phi(self, loss):\n",
    "        params = self.params.detach().requires_grad_(True)\n",
    "        print(params.shape)\n",
    "        print(loss.shape)\n",
    "\n",
    "        score_function = torch.autograd.grad(loss, params)[0]\n",
    "\n",
    "        K_params = self.K(params, params.detach())\n",
    "        grad_K = -torch.autograd.grad(K_params.sum(), params)[0]\n",
    "\n",
    "        phi = (K_params.detach().matmul(score_function) + grad_K) / params.size(0)\n",
    "\n",
    "        return phi\n",
    "\n",
    "    def step(self, loss):\n",
    "        self.optim.zero_grad()\n",
    "        self.params.grad = -self.phi(loss)\n",
    "        self.optim.step()\n"
   ]
  },
  {
   "cell_type": "code",
   "execution_count": 44,
   "metadata": {},
   "outputs": [
    {
     "data": {
      "text/plain": [
       "[None, None, None, None, None, None, None, None]"
      ]
     },
     "execution_count": 44,
     "metadata": {},
     "output_type": "execute_result"
    }
   ],
   "source": [
    "[param.retain_grad() for param in critic.parameters()]\n"
   ]
  },
  {
   "cell_type": "code",
   "execution_count": 65,
   "metadata": {},
   "outputs": [
    {
     "data": {
      "text/plain": [
       "tensor([[-0.0002,  0.0002,  0.0002,  ..., -0.0003, -0.0002,  0.0001]])"
      ]
     },
     "execution_count": 65,
     "metadata": {},
     "output_type": "execute_result"
    }
   ],
   "source": [
    "param = [param for param in critic.parameters()][0]\n",
    "param.grad.view(1, -1)\n"
   ]
  },
  {
   "cell_type": "code",
   "execution_count": 49,
   "metadata": {},
   "outputs": [
    {
     "ename": "NameError",
     "evalue": "name 'optimizer' is not defined",
     "output_type": "error",
     "traceback": [
      "\u001b[0;31m---------------------------------------------------------------------------\u001b[0m",
      "\u001b[0;31mNameError\u001b[0m                                 Traceback (most recent call last)",
      "Cell \u001b[0;32mIn[49], line 4\u001b[0m\n\u001b[1;32m      1\u001b[0m params \u001b[39m=\u001b[39m torch\u001b[39m.\u001b[39mcat(\n\u001b[1;32m      2\u001b[0m     [\n\u001b[1;32m      3\u001b[0m         parameters\u001b[39m.\u001b[39mreshape(\u001b[39m10\u001b[39m, \u001b[39m-\u001b[39m\u001b[39m1\u001b[39m)\n\u001b[0;32m----> 4\u001b[0m         \u001b[39mfor\u001b[39;00m parameters \u001b[39min\u001b[39;00m optimizer\u001b[39m.\u001b[39mparam_groups[\u001b[39m0\u001b[39m][\u001b[39m\"\u001b[39m\u001b[39mparams\u001b[39m\u001b[39m\"\u001b[39m]\n\u001b[1;32m      5\u001b[0m     ],\n\u001b[1;32m      6\u001b[0m     dim\u001b[39m=\u001b[39m\u001b[39m1\u001b[39m,\n\u001b[1;32m      7\u001b[0m )\u001b[39m.\u001b[39mretain_grad()\n\u001b[1;32m      8\u001b[0m \u001b[39mprint\u001b[39m(params\u001b[39m.\u001b[39mshape)\n",
      "\u001b[0;31mNameError\u001b[0m: name 'optimizer' is not defined"
     ]
    }
   ],
   "source": [
    "params = torch.cat(\n",
    "    [parameters.reshape(10, -1) for parameters in optimizer.param_groups[0][\"params\"]],\n",
    "    dim=1,\n",
    ").retain_grad()\n",
    "print(params.shape)\n"
   ]
  },
  {
   "cell_type": "code",
   "execution_count": 114,
   "metadata": {},
   "outputs": [],
   "source": [
    "# params = torch.cat([parameters.reshape(10,-1) for parameters in critic.parameters()], dim=1)\n",
    "# params = params.detach().requires_grad_(True)\n",
    "actions = torch.stack([torch.randn(6) for i in range(10)], dim=0)\n",
    "states = torch.randn(17).repeat(10, 1)\n",
    "q_target = torch.randn(10, 1).detach()\n",
    "q_values = critic(states, actions)\n",
    "\n",
    "# [ensemble_size, batch_size] - [1, batch_size]\n",
    "critic_loss = ((q_values - q_target.view(1, -1)) ** 2).mean(dim=1).sum(dim=0)\n",
    "\n",
    "critic_loss.backward()\n"
   ]
  },
  {
   "cell_type": "code",
   "execution_count": 112,
   "metadata": {},
   "outputs": [
    {
     "name": "stdout",
     "output_type": "stream",
     "text": [
      "torch.Size([10, 23, 256])\n"
     ]
    }
   ],
   "source": [
    "print(critic.parameters().__next__().grad.shape)\n"
   ]
  },
  {
   "cell_type": "code",
   "execution_count": 182,
   "metadata": {},
   "outputs": [
    {
     "data": {
      "text/plain": [
       "torch.Size([10, 23, 256])"
      ]
     },
     "execution_count": 182,
     "metadata": {},
     "output_type": "execute_result"
    }
   ],
   "source": [
    "optimizer.param_groups[0][\"params\"][0].shape\n"
   ]
  },
  {
   "cell_type": "code",
   "execution_count": null,
   "metadata": {},
   "outputs": [],
   "source": [
    "K_params = self.K(params, params.detach())\n",
    "grad_K = -torch.autograd.grad(K_params.sum(), params)[0]\n",
    "\n",
    "phi = (K_params.detach().matmul(score_function) + grad_K) / params.size(0)\n"
   ]
  },
  {
   "cell_type": "code",
   "execution_count": null,
   "metadata": {},
   "outputs": [],
   "source": [
    "class SVGD:\n",
    "    def __init__(self, kernel, optimizer):\n",
    "        self.K = kernel\n",
    "        self.optim = optimizer\n",
    "        self.params = torch.cat(\n",
    "            [\n",
    "                parameters.view(10, -1)\n",
    "                for parameters in self.optim.param_groups[0][\"params\"]\n",
    "            ],\n",
    "            dim=1,\n",
    "        )\n",
    "\n",
    "    def backward(self, loss_function, **args):\n",
    "        loss = loss_function(**args)\n",
    "        self.optim.zero_grad()\n",
    "        loss.backward()\n",
    "\n",
    "        score_function = torch.cat(\n",
    "            [\n",
    "                parameters.grad.reshape(10, -1)\n",
    "                for parameters in self.optim.param_groups[0][\"params\"]\n",
    "            ],\n",
    "            dim=1,\n",
    "        )\n",
    "\n",
    "        self.optim.zero_grad()\n",
    "        params = self.params.detach().requires_grad_(True)\n",
    "\n",
    "        K_params = self.K(params, params.detach())\n",
    "        grad_K = -torch.autograd.grad(K_params.sum(), params)[0]\n",
    "\n",
    "        phi = (K_params.detach().matmul(score_function) + grad_K) / params.size(0)\n",
    "\n",
    "        phi = score_function\n",
    "\n",
    "        self.phi = phi\n",
    "\n",
    "        return loss\n",
    "\n",
    "    def step(self):\n",
    "        self.optim.zero_grad()\n",
    "        self.params.grad = -self.phi\n",
    "        self.optim.step()\n"
   ]
  },
  {
   "cell_type": "code",
   "execution_count": 152,
   "metadata": {},
   "outputs": [],
   "source": [
    "optimizer = torch.optim.Adam(critic.parameters(), lr=0.1)\n"
   ]
  },
  {
   "cell_type": "code",
   "execution_count": 178,
   "metadata": {},
   "outputs": [
    {
     "name": "stdout",
     "output_type": "stream",
     "text": [
      "tensor(0.)\n",
      "tensor(6.7218e-07)\n",
      "tensor(6.7218e-07)\n",
      "tensor(6.7218e-07)\n",
      "tensor(0.)\n",
      "tensor(6.7218e-07)\n"
     ]
    }
   ],
   "source": [
    "actions = torch.stack([torch.randn(6) for i in range(10)], dim=0)\n",
    "states = torch.randn(17).repeat(10, 1)\n",
    "q_target = torch.randn(10, 1).detach()\n",
    "q_values = critic(states, actions)\n",
    "\n",
    "# [ensemble_size, batch_size] - [1, batch_size]\n",
    "critic_loss = ((q_values - q_target.view(1, -1)) ** 2).mean(dim=1).sum(dim=0)\n",
    "\n",
    "optimizer.zero_grad()\n",
    "print(optimizer.param_groups[0][\"params\"][0].grad.mean())\n",
    "\n",
    "critic_loss.backward()\n",
    "print(optimizer.param_groups[0][\"params\"][0].grad.mean())\n",
    "score_function = [deepcopy(param.grad) for param in optimizer.param_groups[0][\"params\"]]\n",
    "print(score_function[0].mean())\n",
    "optimizer.zero_grad()\n",
    "print(score_function[0].mean())\n",
    "print(optimizer.param_groups[0][\"params\"][0].grad.mean())\n",
    "for param, phi in zip(optimizer.param_groups[0][\"params\"], score_function):\n",
    "    param.grad = phi\n",
    "print(optimizer.param_groups[0][\"params\"][0].grad.mean())\n"
   ]
  },
  {
   "cell_type": "code",
   "execution_count": 173,
   "metadata": {},
   "outputs": [
    {
     "data": {
      "text/plain": [
       "torch.Size([10, 10])"
      ]
     },
     "execution_count": 173,
     "metadata": {},
     "output_type": "execute_result"
    }
   ],
   "source": [
    "optimizer.param_groups[0][\"params\"][0].view(10, -1).matmul(\n",
    "    optimizer.param_groups[0][\"params\"][0].view(10, -1).T\n",
    ").shape\n"
   ]
  },
  {
   "cell_type": "code",
   "execution_count": 211,
   "metadata": {},
   "outputs": [
    {
     "name": "stdout",
     "output_type": "stream",
     "text": [
      "torch.Size([10, 10])\n",
      "torch.Size([10, 5888])\n",
      "torch.Size([10, 137985])\n"
     ]
    },
    {
     "ename": "RuntimeError",
     "evalue": "The size of tensor a (5888) must match the size of tensor b (137985) at non-singleton dimension 1",
     "output_type": "error",
     "traceback": [
      "\u001b[0;31m---------------------------------------------------------------------------\u001b[0m",
      "\u001b[0;31mRuntimeError\u001b[0m                              Traceback (most recent call last)",
      "Cell \u001b[0;32mIn[211], line 15\u001b[0m\n\u001b[1;32m     12\u001b[0m \u001b[39mprint\u001b[39m(score[layer]\u001b[39m.\u001b[39mview(\u001b[39m10\u001b[39m,\u001b[39m-\u001b[39m\u001b[39m1\u001b[39m)\u001b[39m.\u001b[39mshape)\n\u001b[1;32m     13\u001b[0m \u001b[39mprint\u001b[39m(grad_K\u001b[39m.\u001b[39mshape)\n\u001b[1;32m     14\u001b[0m phi \u001b[39m=\u001b[39m (\n\u001b[0;32m---> 15\u001b[0m     K_params\u001b[39m.\u001b[39;49mdetach()\u001b[39m.\u001b[39;49mmatmul(score[layer]\u001b[39m.\u001b[39;49mview(\u001b[39m10\u001b[39;49m, \u001b[39m-\u001b[39;49m\u001b[39m1\u001b[39;49m)) \u001b[39m+\u001b[39;49m grad_K\n\u001b[1;32m     16\u001b[0m ) \u001b[39m/\u001b[39m params\u001b[39m.\u001b[39msize(\u001b[39m0\u001b[39m)\n",
      "\u001b[0;31mRuntimeError\u001b[0m: The size of tensor a (5888) must match the size of tensor b (137985) at non-singleton dimension 1"
     ]
    }
   ],
   "source": [
    "all_params = (\n",
    "    torch.cat(\n",
    "        [param.view(10, -1) for param in optimizer.param_groups[0][\"params\"]], dim=1\n",
    "    )\n",
    "    .detach()\n",
    "    .requires_grad_(True)\n",
    ")\n",
    "score = [deepcopy(param.grad) for param in optimizer.param_groups[0][\"params\"]]\n",
    "\n",
    "\n",
    "K_params = K(all_params, all_params.detach())\n",
    "grad_K = -torch.autograd.grad(K_params.sum(), all_params)[0]\n",
    "\n",
    "for layer, params in enumerate(optimizer.param_groups[0][\"params\"]):\n",
    "    shape = params.shape\n",
    "\n",
    "    print(K_params.shape)\n",
    "    print(score[layer].view(10, -1).shape)\n",
    "    print(grad_K.shape)\n",
    "    phi = (K_params.detach().matmul(score[layer].view(10, -1)) + grad_K) / params.size(0)\n"
   ]
  },
  {
   "cell_type": "code",
   "execution_count": 187,
   "metadata": {},
   "outputs": [
    {
     "data": {
      "text/plain": [
       "torch.Size([10, 23, 256])"
      ]
     },
     "execution_count": 187,
     "metadata": {},
     "output_type": "execute_result"
    }
   ],
   "source": [
    "score[0].shape\n"
   ]
  },
  {
   "cell_type": "code",
   "execution_count": 194,
   "metadata": {},
   "outputs": [
    {
     "data": {
      "text/plain": [
       "tensor(2)"
      ]
     },
     "execution_count": 194,
     "metadata": {},
     "output_type": "execute_result"
    }
   ],
   "source": [
    "a = torch.tensor([1, 2, 3, 4])\n",
    "torch.median(a)\n"
   ]
  },
  {
   "cell_type": "code",
   "execution_count": null,
   "metadata": {},
   "outputs": [],
   "source": [
    "class SVGD:\n",
    "    def __init__(self, kernel, optimizer):\n",
    "        self.K = kernel\n",
    "        self.optim = optimizer\n",
    "        self.params = [param for param in self.optim.param_groups[0][\"params\"]]\n",
    "\n",
    "    def backward(self, loss_function, **args):\n",
    "        loss = loss_function(**args)\n",
    "        self.optim.zero_grad()\n",
    "        loss.backward()\n",
    "\n",
    "        score = [deepcopy(param.grad) for param in self.params]\n",
    "        phi_all = []\n",
    "\n",
    "        self.optim.zero_grad()\n",
    "        for layer, params in enumerate(self.params):\n",
    "            shape = params.shape\n",
    "            params = params.view(10, -1).detach().requires_grad_(True)\n",
    "\n",
    "            K_params = self.K(params, params.detach())\n",
    "            grad_K = -torch.autograd.grad(K_params.sum(), params)[0]\n",
    "\n",
    "            phi = (\n",
    "                K_params.detach().matmul(score[layer].reshape(10, -1)) + grad_K\n",
    "            ) / params.size(0)\n",
    "\n",
    "            phi_all.append(phi.reshape(shape))\n",
    "        # params = [param.view(10,-1).detach().requires_grad_(True) for param in self.params]\n",
    "\n",
    "        # K_params = self.K(params, params.detach())\n",
    "        # grad_K = -torch.autograd.grad(K_params.sum(), params)[0]\n",
    "\n",
    "        # phi = (K_params.detach().matmul(score_function) + grad_K) / params.size(0)\n",
    "\n",
    "        self.phi = phi_all\n",
    "\n",
    "        return loss\n"
   ]
  },
  {
   "cell_type": "code",
   "execution_count": 233,
   "metadata": {},
   "outputs": [
    {
     "name": "stdout",
     "output_type": "stream",
     "text": [
      "tensor(0.)\n",
      "torch.Size([10, 137985])\n",
      "tensor(1.2654e-13)\n"
     ]
    }
   ],
   "source": [
    "optimizer.zero_grad()\n",
    "print([param.grad for param in optimizer.param_groups[0][\"params\"]][0].mean())\n",
    "params = torch.cat(\n",
    "    [param.view(10, -1) for param in optimizer.param_groups[0][\"params\"]], dim=1\n",
    ")\n",
    "params.retain_grad()\n",
    "K_params = K(params, params.detach())\n",
    "K_params.sum().backward()\n",
    "print(params.grad.shape)\n",
    "print([param.grad for param in optimizer.param_groups[0][\"params\"]][0].mean())\n",
    "grads = [param.grad for param in optimizer.param_groups[0][\"params\"]]\n"
   ]
  },
  {
   "cell_type": "code",
   "execution_count": 46,
   "metadata": {},
   "outputs": [
    {
     "name": "stdout",
     "output_type": "stream",
     "text": [
      "tensor(0.)\n",
      "tensor(-9.4986e-07)\n",
      "None\n"
     ]
    }
   ],
   "source": [
    "optimizer.zero_grad()\n",
    "print([param.grad for param in optimizer.param_groups[0][\"params\"]][0].mean())\n",
    "params = torch.cat(\n",
    "    [param.view(10, -1) for param in optimizer.param_groups[0][\"params\"]], dim=1\n",
    ")\n",
    "params.retain_grad()\n",
    "\n",
    "actions = torch.stack([torch.randn(6) for i in range(10)], dim=0)\n",
    "states = torch.randn(17).repeat(10, 1)\n",
    "q_target = torch.randn(10, 1)\n",
    "q_values = critic(states, actions)\n",
    "\n",
    "# [ensemble_size, batch_size] - [1, batch_size]\n",
    "critic_loss = ((q_values - q_target.view(1, -1)) ** 2).mean(dim=1).sum(dim=0)\n",
    "critic_loss.backward()\n",
    "print([param.grad for param in optimizer.param_groups[0][\"params\"]][0].mean())\n",
    "print(params.grad)\n"
   ]
  },
  {
   "cell_type": "code",
   "execution_count": 250,
   "metadata": {},
   "outputs": [
    {
     "name": "stdout",
     "output_type": "stream",
     "text": [
      "None\n"
     ]
    }
   ],
   "source": [
    "print(params.grad)\n"
   ]
  },
  {
   "cell_type": "code",
   "execution_count": 252,
   "metadata": {},
   "outputs": [
    {
     "name": "stdout",
     "output_type": "stream",
     "text": [
      "torch.Size([10, 23, 256])\n"
     ]
    }
   ],
   "source": [
    "print([param.grad for param in optimizer.param_groups[0][\"params\"]][0].shape)\n"
   ]
  },
  {
   "cell_type": "code",
   "execution_count": 23,
   "metadata": {},
   "outputs": [
    {
     "data": {
      "text/plain": [
       "[torch.Size([10, 23, 256]),\n",
       " torch.Size([10, 1, 256]),\n",
       " torch.Size([10, 256, 256]),\n",
       " torch.Size([10, 1, 256]),\n",
       " torch.Size([10, 256, 256]),\n",
       " torch.Size([10, 1, 256]),\n",
       " torch.Size([10, 256, 1]),\n",
       " torch.Size([10, 1, 1])]"
      ]
     },
     "execution_count": 23,
     "metadata": {},
     "output_type": "execute_result"
    }
   ],
   "source": [
    "shapes = [param.shape for param in optimizer.param_groups[0][\"params\"]]\n",
    "shapes\n"
   ]
  },
  {
   "cell_type": "code",
   "execution_count": 29,
   "metadata": {},
   "outputs": [
    {
     "data": {
      "text/plain": [
       "(5888, 256, 65536, 256, 65536, 256, 256, 1)"
      ]
     },
     "execution_count": 29,
     "metadata": {},
     "output_type": "execute_result"
    }
   ],
   "source": [
    "lengths = tuple(\n",
    "    [int(param.numel() / 10) for param in optimizer.param_groups[0][\"params\"]]\n",
    ")\n",
    "lengths\n"
   ]
  },
  {
   "cell_type": "code",
   "execution_count": 79,
   "metadata": {},
   "outputs": [
    {
     "name": "stdout",
     "output_type": "stream",
     "text": [
      "tensor(0.)\n",
      "tensor(-0.0002)\n",
      "tensor(-3.1934e-05)\n",
      "tensor(-3.1934e-05)\n"
     ]
    }
   ],
   "source": [
    "optimizer.zero_grad()\n",
    "print(optimizer.param_groups[0][\"params\"][0].grad.mean())\n",
    "\n",
    "actions = torch.stack([torch.randn(6) for i in range(10)], dim=0)\n",
    "states = torch.randn(17).repeat(10, 1)\n",
    "q_target = torch.randn(10, 1).detach()\n",
    "q_values = critic(states, actions)\n",
    "\n",
    "# [ensemble_size, batch_size] - [1, batch_size]\n",
    "critic_loss = ((q_values - q_target.view(1, -1)) ** 2).mean(dim=1).sum(dim=0)\n",
    "\n",
    "critic_loss.backward()\n",
    "\n",
    "score = torch.cat(\n",
    "    [\n",
    "        param.grad.view(param.size(0), -1)\n",
    "        for param in optimizer.param_groups[0][\"params\"]\n",
    "    ],\n",
    "    dim=1,\n",
    ")\n",
    "print(score.mean())\n",
    "optimizer.zero_grad()\n",
    "\n",
    "params = (\n",
    "    torch.cat(\n",
    "        [param.view(param.size(0), -1) for param in optimizer.param_groups[0][\"params\"]],\n",
    "        dim=1,\n",
    "    )\n",
    "    .detach()\n",
    "    .requires_grad_()\n",
    ")\n",
    "K_params = K(params, params.detach())\n",
    "grad_K = -torch.autograd.grad(K_params.sum(), params)[0]\n",
    "phi = (K_params.detach().matmul(score) + grad_K) / params.size(0)\n",
    "print(phi.mean())\n",
    "\n",
    "lengths = tuple(\n",
    "    [int(param.numel() / param.size(0)) for param in optimizer.param_groups[0][\"params\"]]\n",
    ")\n",
    "\n",
    "for param, phi in zip(\n",
    "    optimizer.param_groups[0][\"params\"], torch.split(phi, lengths, dim=1)\n",
    "):\n",
    "    param.grad = phi.reshape(param.shape)\n",
    "print(\n",
    "    torch.cat(\n",
    "        [param.grad.view(10, -1) for param in optimizer.param_groups[0][\"params\"]], dim=1\n",
    "    ).mean()\n",
    ")\n"
   ]
  },
  {
   "cell_type": "code",
   "execution_count": 35,
   "metadata": {},
   "outputs": [
    {
     "name": "stdout",
     "output_type": "stream",
     "text": [
      "torch.Size([10, 23, 256])\n",
      "torch.Size([10, 1, 256])\n",
      "torch.Size([10, 256, 256])\n",
      "torch.Size([10, 1, 256])\n",
      "torch.Size([10, 256, 256])\n",
      "torch.Size([10, 1, 256])\n",
      "torch.Size([10, 256, 1])\n",
      "torch.Size([10, 1, 1])\n"
     ]
    }
   ],
   "source": [
    "for tensor, shape in zip(torch.split(params, lengths, dim=1), shapes):\n",
    "    tensor = tensor.reshape(shape)\n",
    "    print(tensor.shape)\n"
   ]
  },
  {
   "cell_type": "code",
   "execution_count": 86,
   "metadata": {},
   "outputs": [
    {
     "data": {
      "text/plain": [
       "torch.Size([10, 137985])"
      ]
     },
     "execution_count": 86,
     "metadata": {},
     "output_type": "execute_result"
    }
   ],
   "source": [
    "torch.cat(\n",
    "    [param.grad.view(10, -1) for param in optimizer.param_groups[0][\"params\"]], dim=1\n",
    ").shape\n"
   ]
  },
  {
   "cell_type": "code",
   "execution_count": 3,
   "metadata": {},
   "outputs": [
    {
     "ename": "Exception",
     "evalue": "\nMissing path to your environment variable. \nCurrent values LD_LIBRARY_PATH=\nPlease add following line to .bashrc:\nexport LD_LIBRARY_PATH=$LD_LIBRARY_PATH:/afs/inf.ed.ac.uk/user/s21/s2139934/.mujoco/mujoco210/bin",
     "output_type": "error",
     "traceback": [
      "\u001b[0;31m---------------------------------------------------------------------------\u001b[0m",
      "\u001b[0;31mException\u001b[0m                                 Traceback (most recent call last)",
      "Cell \u001b[0;32mIn[3], line 5\u001b[0m\n\u001b[1;32m      3\u001b[0m \u001b[39mimport\u001b[39;00m \u001b[39mtorch\u001b[39;00m\n\u001b[1;32m      4\u001b[0m \u001b[39mimport\u001b[39;00m \u001b[39mgym\u001b[39;00m\n\u001b[0;32m----> 5\u001b[0m \u001b[39mimport\u001b[39;00m \u001b[39md4rl\u001b[39;00m\n\u001b[1;32m      7\u001b[0m TensorBatch \u001b[39m=\u001b[39m List[torch\u001b[39m.\u001b[39mTensor]\n\u001b[1;32m      9\u001b[0m \u001b[39mdef\u001b[39;00m \u001b[39mdiscount_cumsum\u001b[39m(x, discount):\n",
      "File \u001b[0;32m/disk/scratch1/adamjelley/miniconda3/envs/CORL/lib/python3.10/site-packages/d4rl/__init__.py:14\u001b[0m\n\u001b[1;32m     11\u001b[0m _ERROR_MESSAGE \u001b[39m=\u001b[39m \u001b[39m'\u001b[39m\u001b[39mWarning: \u001b[39m\u001b[39m%s\u001b[39;00m\u001b[39m failed to import. Set the environment variable D4RL_SUPPRESS_IMPORT_ERROR=1 to suppress this message.\u001b[39m\u001b[39m'\u001b[39m\n\u001b[1;32m     13\u001b[0m \u001b[39mtry\u001b[39;00m:\n\u001b[0;32m---> 14\u001b[0m     \u001b[39mimport\u001b[39;00m \u001b[39md4rl\u001b[39;00m\u001b[39m.\u001b[39;00m\u001b[39mlocomotion\u001b[39;00m\n\u001b[1;32m     15\u001b[0m     \u001b[39mimport\u001b[39;00m \u001b[39md4rl\u001b[39;00m\u001b[39m.\u001b[39;00m\u001b[39mhand_manipulation_suite\u001b[39;00m\n\u001b[1;32m     16\u001b[0m     \u001b[39mimport\u001b[39;00m \u001b[39md4rl\u001b[39;00m\u001b[39m.\u001b[39;00m\u001b[39mpointmaze\u001b[39;00m\n",
      "File \u001b[0;32m/disk/scratch1/adamjelley/miniconda3/envs/CORL/lib/python3.10/site-packages/d4rl/locomotion/__init__.py:2\u001b[0m\n\u001b[1;32m      1\u001b[0m \u001b[39mfrom\u001b[39;00m \u001b[39mgym\u001b[39;00m\u001b[39m.\u001b[39;00m\u001b[39menvs\u001b[39;00m\u001b[39m.\u001b[39;00m\u001b[39mregistration\u001b[39;00m \u001b[39mimport\u001b[39;00m register\n\u001b[0;32m----> 2\u001b[0m \u001b[39mfrom\u001b[39;00m \u001b[39md4rl\u001b[39;00m\u001b[39m.\u001b[39;00m\u001b[39mlocomotion\u001b[39;00m \u001b[39mimport\u001b[39;00m ant\n\u001b[1;32m      3\u001b[0m \u001b[39mfrom\u001b[39;00m \u001b[39md4rl\u001b[39;00m\u001b[39m.\u001b[39;00m\u001b[39mlocomotion\u001b[39;00m \u001b[39mimport\u001b[39;00m maze_env\n\u001b[1;32m      5\u001b[0m \u001b[39m\"\"\"\u001b[39;00m\n\u001b[1;32m      6\u001b[0m \u001b[39mregister(\u001b[39;00m\n\u001b[1;32m      7\u001b[0m \u001b[39m    id='antmaze-umaze-v0',\u001b[39;00m\n\u001b[0;32m   (...)\u001b[0m\n\u001b[1;32m     20\u001b[0m \u001b[39m)\u001b[39;00m\n\u001b[1;32m     21\u001b[0m \u001b[39m\"\"\"\u001b[39;00m\n",
      "File \u001b[0;32m/disk/scratch1/adamjelley/miniconda3/envs/CORL/lib/python3.10/site-packages/d4rl/locomotion/ant.py:20\u001b[0m\n\u001b[1;32m     18\u001b[0m \u001b[39mimport\u001b[39;00m \u001b[39mmath\u001b[39;00m\n\u001b[1;32m     19\u001b[0m \u001b[39mimport\u001b[39;00m \u001b[39mnumpy\u001b[39;00m \u001b[39mas\u001b[39;00m \u001b[39mnp\u001b[39;00m\n\u001b[0;32m---> 20\u001b[0m \u001b[39mimport\u001b[39;00m \u001b[39mmujoco_py\u001b[39;00m\n\u001b[1;32m     21\u001b[0m \u001b[39mimport\u001b[39;00m \u001b[39mos\u001b[39;00m\n\u001b[1;32m     23\u001b[0m \u001b[39mfrom\u001b[39;00m \u001b[39mgym\u001b[39;00m \u001b[39mimport\u001b[39;00m utils\n",
      "File \u001b[0;32m/disk/scratch1/adamjelley/miniconda3/envs/CORL/lib/python3.10/site-packages/mujoco_py/__init__.py:2\u001b[0m\n\u001b[1;32m      1\u001b[0m \u001b[39m#!/usr/bin/env python\u001b[39;00m\n\u001b[0;32m----> 2\u001b[0m \u001b[39mfrom\u001b[39;00m \u001b[39mmujoco_py\u001b[39;00m\u001b[39m.\u001b[39;00m\u001b[39mbuilder\u001b[39;00m \u001b[39mimport\u001b[39;00m cymj, ignore_mujoco_warnings, functions, MujocoException\n\u001b[1;32m      3\u001b[0m \u001b[39mfrom\u001b[39;00m \u001b[39mmujoco_py\u001b[39;00m\u001b[39m.\u001b[39;00m\u001b[39mgenerated\u001b[39;00m \u001b[39mimport\u001b[39;00m const\n\u001b[1;32m      4\u001b[0m \u001b[39mfrom\u001b[39;00m \u001b[39mmujoco_py\u001b[39;00m\u001b[39m.\u001b[39;00m\u001b[39mmjrenderpool\u001b[39;00m \u001b[39mimport\u001b[39;00m MjRenderPool\n",
      "File \u001b[0;32m/disk/scratch1/adamjelley/miniconda3/envs/CORL/lib/python3.10/site-packages/mujoco_py/builder.py:504\u001b[0m\n\u001b[1;32m    500\u001b[0m     \u001b[39mreturn\u001b[39;00m module\u001b[39m.\u001b[39mlib\u001b[39m.\u001b[39m__fun\n\u001b[1;32m    503\u001b[0m mujoco_path \u001b[39m=\u001b[39m discover_mujoco()\n\u001b[0;32m--> 504\u001b[0m cymj \u001b[39m=\u001b[39m load_cython_ext(mujoco_path)\n\u001b[1;32m    507\u001b[0m \u001b[39m# Trick to expose all mj* functions from mujoco in mujoco_py.*\u001b[39;00m\n\u001b[1;32m    508\u001b[0m \u001b[39mclass\u001b[39;00m \u001b[39mdict2\u001b[39;00m(\u001b[39mobject\u001b[39m):\n",
      "File \u001b[0;32m/disk/scratch1/adamjelley/miniconda3/envs/CORL/lib/python3.10/site-packages/mujoco_py/builder.py:74\u001b[0m, in \u001b[0;36mload_cython_ext\u001b[0;34m(mujoco_path)\u001b[0m\n\u001b[1;32m     72\u001b[0m     Builder \u001b[39m=\u001b[39m MacExtensionBuilder\n\u001b[1;32m     73\u001b[0m \u001b[39melif\u001b[39;00m sys\u001b[39m.\u001b[39mplatform \u001b[39m==\u001b[39m \u001b[39m'\u001b[39m\u001b[39mlinux\u001b[39m\u001b[39m'\u001b[39m:\n\u001b[0;32m---> 74\u001b[0m     _ensure_set_env_var(\u001b[39m\"\u001b[39;49m\u001b[39mLD_LIBRARY_PATH\u001b[39;49m\u001b[39m\"\u001b[39;49m, lib_path)\n\u001b[1;32m     75\u001b[0m     \u001b[39mif\u001b[39;00m os\u001b[39m.\u001b[39mgetenv(\u001b[39m'\u001b[39m\u001b[39mMUJOCO_PY_FORCE_CPU\u001b[39m\u001b[39m'\u001b[39m) \u001b[39mis\u001b[39;00m \u001b[39mNone\u001b[39;00m \u001b[39mand\u001b[39;00m get_nvidia_lib_dir() \u001b[39mis\u001b[39;00m \u001b[39mnot\u001b[39;00m \u001b[39mNone\u001b[39;00m:\n\u001b[1;32m     76\u001b[0m         _ensure_set_env_var(\u001b[39m\"\u001b[39m\u001b[39mLD_LIBRARY_PATH\u001b[39m\u001b[39m\"\u001b[39m, get_nvidia_lib_dir())\n",
      "File \u001b[0;32m/disk/scratch1/adamjelley/miniconda3/envs/CORL/lib/python3.10/site-packages/mujoco_py/builder.py:120\u001b[0m, in \u001b[0;36m_ensure_set_env_var\u001b[0;34m(var_name, lib_path)\u001b[0m\n\u001b[1;32m    118\u001b[0m paths \u001b[39m=\u001b[39m [os\u001b[39m.\u001b[39mpath\u001b[39m.\u001b[39mabspath(path) \u001b[39mfor\u001b[39;00m path \u001b[39min\u001b[39;00m paths]\n\u001b[1;32m    119\u001b[0m \u001b[39mif\u001b[39;00m lib_path \u001b[39mnot\u001b[39;00m \u001b[39min\u001b[39;00m paths:\n\u001b[0;32m--> 120\u001b[0m     \u001b[39mraise\u001b[39;00m \u001b[39mException\u001b[39;00m(\u001b[39m\"\u001b[39m\u001b[39m\\n\u001b[39;00m\u001b[39mMissing path to your environment variable. \u001b[39m\u001b[39m\\n\u001b[39;00m\u001b[39m\"\u001b[39m\n\u001b[1;32m    121\u001b[0m                     \u001b[39m\"\u001b[39m\u001b[39mCurrent values \u001b[39m\u001b[39m%s\u001b[39;00m\u001b[39m=\u001b[39m\u001b[39m%s\u001b[39;00m\u001b[39m\\n\u001b[39;00m\u001b[39m\"\u001b[39m\n\u001b[1;32m    122\u001b[0m                     \u001b[39m\"\u001b[39m\u001b[39mPlease add following line to .bashrc:\u001b[39m\u001b[39m\\n\u001b[39;00m\u001b[39m\"\u001b[39m\n\u001b[1;32m    123\u001b[0m                     \u001b[39m\"\u001b[39m\u001b[39mexport \u001b[39m\u001b[39m%s\u001b[39;00m\u001b[39m=$\u001b[39m\u001b[39m%s\u001b[39;00m\u001b[39m:\u001b[39m\u001b[39m%s\u001b[39;00m\u001b[39m\"\u001b[39m \u001b[39m%\u001b[39m (var_name, os\u001b[39m.\u001b[39menviron\u001b[39m.\u001b[39mget(var_name, \u001b[39m\"\u001b[39m\u001b[39m\"\u001b[39m),\n\u001b[1;32m    124\u001b[0m                                           var_name, var_name, lib_path))\n",
      "\u001b[0;31mException\u001b[0m: \nMissing path to your environment variable. \nCurrent values LD_LIBRARY_PATH=\nPlease add following line to .bashrc:\nexport LD_LIBRARY_PATH=$LD_LIBRARY_PATH:/afs/inf.ed.ac.uk/user/s21/s2139934/.mujoco/mujoco210/bin"
     ]
    }
   ],
   "source": [
    "from typing import List, Dict, Tuple\n",
    "import numpy as np\n",
    "import torch\n",
    "import gym\n",
    "import d4rl\n",
    "\n",
    "TensorBatch = List[torch.Tensor]\n",
    "\n",
    "\n",
    "def discount_cumsum(x, discount):\n",
    "    disc_cumsum = np.zeros_like(x)\n",
    "    disc_cumsum[-1] = x[-1]\n",
    "    for t in reversed(range(x.shape[0] - 1)):\n",
    "        disc_cumsum[t] = x[t] + discount * disc_cumsum[t + 1]\n",
    "    return disc_cumsum\n",
    "\n",
    "\n",
    "class ReplayBuffer:\n",
    "    def __init__(\n",
    "        self,\n",
    "        state_dim: int,\n",
    "        action_dim: int,\n",
    "        buffer_size: int,\n",
    "        discount: float,\n",
    "        device: str = \"cpu\",\n",
    "    ):\n",
    "        self._buffer_size = buffer_size\n",
    "        self._pointer = 0\n",
    "        self._size = 0\n",
    "\n",
    "        self._states = torch.zeros(\n",
    "            (buffer_size, state_dim), dtype=torch.float32, device=device\n",
    "        )\n",
    "        self._actions = torch.zeros(\n",
    "            (buffer_size, action_dim), dtype=torch.float32, device=device\n",
    "        )\n",
    "        self._rewards = torch.zeros((buffer_size, 1), dtype=torch.float32, device=device)\n",
    "        self._returns = torch.zeros((buffer_size, 1), dtype=torch.float32, device=device)\n",
    "        self._next_states = torch.zeros(\n",
    "            (buffer_size, state_dim), dtype=torch.float32, device=device\n",
    "        )\n",
    "        self._dones = torch.zeros((buffer_size, 1), dtype=torch.float32, device=device)\n",
    "        self._discount = discount\n",
    "        self._device = device\n",
    "\n",
    "    def _to_tensor(self, data: np.ndarray) -> torch.Tensor:\n",
    "        return torch.tensor(data, dtype=torch.float32, device=self._device)\n",
    "\n",
    "    # Loads data in d4rl format, i.e. from Dict[str, np.array].\n",
    "    def load_d4rl_dataset(self, data: Dict[str, np.ndarray]):\n",
    "        if self._size != 0:\n",
    "            raise ValueError(\"Trying to load data into non-empty replay buffer\")\n",
    "        n_transitions = data[\"observations\"].shape[0]\n",
    "        if n_transitions > self._buffer_size:\n",
    "            raise ValueError(\n",
    "                \"Replay buffer is smaller than the dataset you are trying to load!\"\n",
    "            )\n",
    "        self._states[:n_transitions] = self._to_tensor(data[\"observations\"])\n",
    "        self._actions[:n_transitions] = self._to_tensor(data[\"actions\"])\n",
    "        self._rewards[:n_transitions] = self._to_tensor(data[\"rewards\"][..., None])\n",
    "        self._returns[:n_transitions] = self._to_tensor(\n",
    "            discount_cumsum(data[\"rewards\"], self._discount)[..., None]\n",
    "        )\n",
    "        self._next_states[:n_transitions] = self._to_tensor(data[\"next_observations\"])\n",
    "        self._dones[:n_transitions] = self._to_tensor(data[\"terminals\"][..., None])\n",
    "        self._size += n_transitions\n",
    "        self._pointer = min(self._size, n_transitions)\n",
    "\n",
    "        print(f\"Dataset size: {n_transitions}\")\n",
    "        print(data[\"rewards\"].shape)\n",
    "\n",
    "    def sample(self, batch_size: int) -> TensorBatch:\n",
    "        indices = np.random.randint(0, min(self._size, self._pointer), size=batch_size)\n",
    "        states = self._states[indices]\n",
    "        actions = self._actions[indices]\n",
    "        rewards = self._rewards[indices]\n",
    "        returns = self._returns[indices]\n",
    "        next_states = self._next_states[indices]\n",
    "        dones = self._dones[indices]\n",
    "        return [states, actions, rewards, returns, next_states, dones]\n",
    "\n",
    "    def add_transition(self):\n",
    "        # Use this method to add new data into the replay buffer during fine-tuning.\n",
    "        # I left it unimplemented since now we do not do fine-tuning.\n",
    "        raise NotImplementedError\n"
   ]
  },
  {
   "cell_type": "code",
   "execution_count": null,
   "metadata": {},
   "outputs": [],
   "source": [
    "def compute_mean_std(states: np.ndarray, eps: float) -> Tuple[np.ndarray, np.ndarray]:\n",
    "    mean = states.mean(0)\n",
    "    std = states.std(0) + eps\n",
    "    return mean, std\n",
    "\n",
    "\n",
    "def normalize_states(states: np.ndarray, mean: np.ndarray, std: np.ndarray):\n",
    "    return (states - mean) / std\n",
    "\n",
    "\n",
    "def discount_cumsum(x, discount):\n",
    "    disc_cumsum = np.zeros_like(x)\n",
    "    disc_cumsum[-1] = x[-1]\n",
    "    for t in reversed(range(x.shape[0] - 1)):\n",
    "        disc_cumsum[t] = x[t] + discount * disc_cumsum[t + 1]\n",
    "    return disc_cumsum\n",
    "\n",
    "\n",
    "def wrap_env(\n",
    "    env: gym.Env,\n",
    "    state_mean: Union[np.ndarray, float] = 0.0,\n",
    "    state_std: Union[np.ndarray, float] = 1.0,\n",
    "    reward_scale: float = 1.0,\n",
    ") -> gym.Env:\n",
    "    # PEP 8: E731 do not assign a lambda expression, use a def\n",
    "    def normalize_state(state):\n",
    "        return (\n",
    "            state - state_mean\n",
    "        ) / state_std  # epsilon should be already added in std.\n",
    "\n",
    "    def scale_reward(reward):\n",
    "        # Please be careful, here reward is multiplied by scale!\n",
    "        return reward_scale * reward\n",
    "\n",
    "    env = gym.wrappers.TransformObservation(env, normalize_state)\n",
    "    if reward_scale != 1.0:\n",
    "        env = gym.wrappers.TransformReward(env, scale_reward)\n",
    "    return env\n"
   ]
  },
  {
   "cell_type": "code",
   "execution_count": 13,
   "metadata": {},
   "outputs": [
    {
     "name": "stdout",
     "output_type": "stream",
     "text": [
      "Import error. Trying to rebuild mujoco_py.\n",
      "running build_ext\n",
      "building 'mujoco_py.cymj' extension\n",
      "gcc -pthread -B /disk/scratch1/adamjelley/miniconda3/envs/CORL/compiler_compat -Wno-unused-result -Wsign-compare -DNDEBUG -fwrapv -O2 -Wall -fPIC -O2 -isystem /disk/scratch1/adamjelley/miniconda3/envs/CORL/include -fPIC -O2 -isystem /disk/scratch1/adamjelley/miniconda3/envs/CORL/include -fPIC -I/disk/scratch1/adamjelley/miniconda3/envs/CORL/lib/python3.10/site-packages/mujoco_py -I/afs/inf.ed.ac.uk/user/s21/s2139934/.mujoco/mujoco210/include -I/disk/scratch1/adamjelley/miniconda3/envs/CORL/lib/python3.10/site-packages/numpy/core/include -I/disk/scratch1/adamjelley/miniconda3/envs/CORL/lib/python3.10/site-packages/mujoco_py/vendor/egl -I/disk/scratch1/adamjelley/miniconda3/envs/CORL/include/python3.10 -c /disk/scratch1/adamjelley/miniconda3/envs/CORL/lib/python3.10/site-packages/mujoco_py/cymj.c -o /disk/scratch1/adamjelley/miniconda3/envs/CORL/lib/python3.10/site-packages/mujoco_py/generated/_pyxbld_2.1.2.14_310_linuxgpuextensionbuilder/temp.linux-x86_64-cpython-310/disk/scratch1/adamjelley/miniconda3/envs/CORL/lib/python3.10/site-packages/mujoco_py/cymj.o -fopenmp -w\n",
      "gcc -pthread -B /disk/scratch1/adamjelley/miniconda3/envs/CORL/compiler_compat -Wno-unused-result -Wsign-compare -DNDEBUG -fwrapv -O2 -Wall -fPIC -O2 -isystem /disk/scratch1/adamjelley/miniconda3/envs/CORL/include -fPIC -O2 -isystem /disk/scratch1/adamjelley/miniconda3/envs/CORL/include -fPIC -I/disk/scratch1/adamjelley/miniconda3/envs/CORL/lib/python3.10/site-packages/mujoco_py -I/afs/inf.ed.ac.uk/user/s21/s2139934/.mujoco/mujoco210/include -I/disk/scratch1/adamjelley/miniconda3/envs/CORL/lib/python3.10/site-packages/numpy/core/include -I/disk/scratch1/adamjelley/miniconda3/envs/CORL/lib/python3.10/site-packages/mujoco_py/vendor/egl -I/disk/scratch1/adamjelley/miniconda3/envs/CORL/include/python3.10 -c /disk/scratch1/adamjelley/miniconda3/envs/CORL/lib/python3.10/site-packages/mujoco_py/gl/eglshim.c -o /disk/scratch1/adamjelley/miniconda3/envs/CORL/lib/python3.10/site-packages/mujoco_py/generated/_pyxbld_2.1.2.14_310_linuxgpuextensionbuilder/temp.linux-x86_64-cpython-310/disk/scratch1/adamjelley/miniconda3/envs/CORL/lib/python3.10/site-packages/mujoco_py/gl/eglshim.o -fopenmp -w\n",
      "gcc -pthread -B /disk/scratch1/adamjelley/miniconda3/envs/CORL/compiler_compat -shared -Wl,-rpath,/disk/scratch1/adamjelley/miniconda3/envs/CORL/lib -Wl,-rpath-link,/disk/scratch1/adamjelley/miniconda3/envs/CORL/lib -L/disk/scratch1/adamjelley/miniconda3/envs/CORL/lib -Wl,-rpath,/disk/scratch1/adamjelley/miniconda3/envs/CORL/lib -Wl,-rpath-link,/disk/scratch1/adamjelley/miniconda3/envs/CORL/lib -L/disk/scratch1/adamjelley/miniconda3/envs/CORL/lib /disk/scratch1/adamjelley/miniconda3/envs/CORL/lib/python3.10/site-packages/mujoco_py/generated/_pyxbld_2.1.2.14_310_linuxgpuextensionbuilder/temp.linux-x86_64-cpython-310/disk/scratch1/adamjelley/miniconda3/envs/CORL/lib/python3.10/site-packages/mujoco_py/cymj.o /disk/scratch1/adamjelley/miniconda3/envs/CORL/lib/python3.10/site-packages/mujoco_py/generated/_pyxbld_2.1.2.14_310_linuxgpuextensionbuilder/temp.linux-x86_64-cpython-310/disk/scratch1/adamjelley/miniconda3/envs/CORL/lib/python3.10/site-packages/mujoco_py/gl/eglshim.o -L/afs/inf.ed.ac.uk/user/s21/s2139934/.mujoco/mujoco210/bin -Wl,-R/afs/inf.ed.ac.uk/user/s21/s2139934/.mujoco/mujoco210/bin -lmujoco210 -lglewegl -o /disk/scratch1/adamjelley/miniconda3/envs/CORL/lib/python3.10/site-packages/mujoco_py/generated/_pyxbld_2.1.2.14_310_linuxgpuextensionbuilder/lib.linux-x86_64-cpython-310/mujoco_py/cymj.cpython-310-x86_64-linux-gnu.so -fopenmp\n"
     ]
    },
    {
     "name": "stderr",
     "output_type": "stream",
     "text": [
      "Warning: Mujoco-based envs failed to import. Set the environment variable D4RL_SUPPRESS_IMPORT_ERROR=1 to suppress this message.\n",
      "libglewegl.so: cannot open shared object file: No such file or directory\n",
      "Warning: Flow failed to import. Set the environment variable D4RL_SUPPRESS_IMPORT_ERROR=1 to suppress this message.\n",
      "No module named 'flow'\n",
      "/disk/scratch1/adamjelley/miniconda3/envs/CORL/lib/python3.10/site-packages/glfw/__init__.py:912: GLFWError: (65544) b'X11: The DISPLAY environment variable is missing'\n",
      "  warnings.warn(message, GLFWError)\n"
     ]
    },
    {
     "name": "stdout",
     "output_type": "stream",
     "text": [
      "Import error. Trying to rebuild mujoco_py.\n",
      "running build_ext\n",
      "building 'mujoco_py.cymj' extension\n",
      "gcc -pthread -B /disk/scratch1/adamjelley/miniconda3/envs/CORL/compiler_compat -Wno-unused-result -Wsign-compare -DNDEBUG -fwrapv -O2 -Wall -fPIC -O2 -isystem /disk/scratch1/adamjelley/miniconda3/envs/CORL/include -fPIC -O2 -isystem /disk/scratch1/adamjelley/miniconda3/envs/CORL/include -fPIC -I/disk/scratch1/adamjelley/miniconda3/envs/CORL/lib/python3.10/site-packages/mujoco_py -I/afs/inf.ed.ac.uk/user/s21/s2139934/.mujoco/mujoco210/include -I/disk/scratch1/adamjelley/miniconda3/envs/CORL/lib/python3.10/site-packages/numpy/core/include -I/disk/scratch1/adamjelley/miniconda3/envs/CORL/lib/python3.10/site-packages/mujoco_py/vendor/egl -I/disk/scratch1/adamjelley/miniconda3/envs/CORL/include/python3.10 -c /disk/scratch1/adamjelley/miniconda3/envs/CORL/lib/python3.10/site-packages/mujoco_py/cymj.c -o /disk/scratch1/adamjelley/miniconda3/envs/CORL/lib/python3.10/site-packages/mujoco_py/generated/_pyxbld_2.1.2.14_310_linuxgpuextensionbuilder/temp.linux-x86_64-cpython-310/disk/scratch1/adamjelley/miniconda3/envs/CORL/lib/python3.10/site-packages/mujoco_py/cymj.o -fopenmp -w\n"
     ]
    },
    {
     "name": "stderr",
     "output_type": "stream",
     "text": [
      "Warning: CARLA failed to import. Set the environment variable D4RL_SUPPRESS_IMPORT_ERROR=1 to suppress this message.\n",
      "No module named 'carla'\n",
      "pybullet build time: Jan  4 2023 11:33:22\n"
     ]
    },
    {
     "name": "stdout",
     "output_type": "stream",
     "text": [
      "gcc -pthread -B /disk/scratch1/adamjelley/miniconda3/envs/CORL/compiler_compat -Wno-unused-result -Wsign-compare -DNDEBUG -fwrapv -O2 -Wall -fPIC -O2 -isystem /disk/scratch1/adamjelley/miniconda3/envs/CORL/include -fPIC -O2 -isystem /disk/scratch1/adamjelley/miniconda3/envs/CORL/include -fPIC -I/disk/scratch1/adamjelley/miniconda3/envs/CORL/lib/python3.10/site-packages/mujoco_py -I/afs/inf.ed.ac.uk/user/s21/s2139934/.mujoco/mujoco210/include -I/disk/scratch1/adamjelley/miniconda3/envs/CORL/lib/python3.10/site-packages/numpy/core/include -I/disk/scratch1/adamjelley/miniconda3/envs/CORL/lib/python3.10/site-packages/mujoco_py/vendor/egl -I/disk/scratch1/adamjelley/miniconda3/envs/CORL/include/python3.10 -c /disk/scratch1/adamjelley/miniconda3/envs/CORL/lib/python3.10/site-packages/mujoco_py/gl/eglshim.c -o /disk/scratch1/adamjelley/miniconda3/envs/CORL/lib/python3.10/site-packages/mujoco_py/generated/_pyxbld_2.1.2.14_310_linuxgpuextensionbuilder/temp.linux-x86_64-cpython-310/disk/scratch1/adamjelley/miniconda3/envs/CORL/lib/python3.10/site-packages/mujoco_py/gl/eglshim.o -fopenmp -w\n",
      "gcc -pthread -B /disk/scratch1/adamjelley/miniconda3/envs/CORL/compiler_compat -shared -Wl,-rpath,/disk/scratch1/adamjelley/miniconda3/envs/CORL/lib -Wl,-rpath-link,/disk/scratch1/adamjelley/miniconda3/envs/CORL/lib -L/disk/scratch1/adamjelley/miniconda3/envs/CORL/lib -Wl,-rpath,/disk/scratch1/adamjelley/miniconda3/envs/CORL/lib -Wl,-rpath-link,/disk/scratch1/adamjelley/miniconda3/envs/CORL/lib -L/disk/scratch1/adamjelley/miniconda3/envs/CORL/lib /disk/scratch1/adamjelley/miniconda3/envs/CORL/lib/python3.10/site-packages/mujoco_py/generated/_pyxbld_2.1.2.14_310_linuxgpuextensionbuilder/temp.linux-x86_64-cpython-310/disk/scratch1/adamjelley/miniconda3/envs/CORL/lib/python3.10/site-packages/mujoco_py/cymj.o /disk/scratch1/adamjelley/miniconda3/envs/CORL/lib/python3.10/site-packages/mujoco_py/generated/_pyxbld_2.1.2.14_310_linuxgpuextensionbuilder/temp.linux-x86_64-cpython-310/disk/scratch1/adamjelley/miniconda3/envs/CORL/lib/python3.10/site-packages/mujoco_py/gl/eglshim.o -L/afs/inf.ed.ac.uk/user/s21/s2139934/.mujoco/mujoco210/bin -Wl,-R/afs/inf.ed.ac.uk/user/s21/s2139934/.mujoco/mujoco210/bin -lmujoco210 -lglewegl -o /disk/scratch1/adamjelley/miniconda3/envs/CORL/lib/python3.10/site-packages/mujoco_py/generated/_pyxbld_2.1.2.14_310_linuxgpuextensionbuilder/lib.linux-x86_64-cpython-310/mujoco_py/cymj.cpython-310-x86_64-linux-gnu.so -fopenmp\n"
     ]
    },
    {
     "ename": "DependencyNotInstalled",
     "evalue": "libglewegl.so: cannot open shared object file: No such file or directory. (HINT: you need to install mujoco_py, and also perform the setup instructions here: https://github.com/openai/mujoco-py/.)",
     "output_type": "error",
     "traceback": [
      "\u001b[0;31m---------------------------------------------------------------------------\u001b[0m",
      "\u001b[0;31mImportError\u001b[0m                               Traceback (most recent call last)",
      "File \u001b[0;32m/disk/scratch1/adamjelley/miniconda3/envs/CORL/lib/python3.10/site-packages/gym/envs/mujoco/mujoco_env.py:12\u001b[0m\n\u001b[1;32m     11\u001b[0m \u001b[39mtry\u001b[39;00m:\n\u001b[0;32m---> 12\u001b[0m     \u001b[39mimport\u001b[39;00m \u001b[39mmujoco_py\u001b[39;00m\n\u001b[1;32m     13\u001b[0m \u001b[39mexcept\u001b[39;00m \u001b[39mImportError\u001b[39;00m \u001b[39mas\u001b[39;00m e:\n",
      "File \u001b[0;32m/disk/scratch1/adamjelley/miniconda3/envs/CORL/lib/python3.10/site-packages/mujoco_py/__init__.py:2\u001b[0m\n\u001b[1;32m      1\u001b[0m \u001b[39m#!/usr/bin/env python\u001b[39;00m\n\u001b[0;32m----> 2\u001b[0m \u001b[39mfrom\u001b[39;00m \u001b[39mmujoco_py\u001b[39;00m\u001b[39m.\u001b[39;00m\u001b[39mbuilder\u001b[39;00m \u001b[39mimport\u001b[39;00m cymj, ignore_mujoco_warnings, functions, MujocoException\n\u001b[1;32m      3\u001b[0m \u001b[39mfrom\u001b[39;00m \u001b[39mmujoco_py\u001b[39;00m\u001b[39m.\u001b[39;00m\u001b[39mgenerated\u001b[39;00m \u001b[39mimport\u001b[39;00m const\n",
      "File \u001b[0;32m/disk/scratch1/adamjelley/miniconda3/envs/CORL/lib/python3.10/site-packages/mujoco_py/builder.py:504\u001b[0m\n\u001b[1;32m    503\u001b[0m mujoco_path \u001b[39m=\u001b[39m discover_mujoco()\n\u001b[0;32m--> 504\u001b[0m cymj \u001b[39m=\u001b[39m load_cython_ext(mujoco_path)\n\u001b[1;32m    507\u001b[0m \u001b[39m# Trick to expose all mj* functions from mujoco in mujoco_py.*\u001b[39;00m\n",
      "File \u001b[0;32m/disk/scratch1/adamjelley/miniconda3/envs/CORL/lib/python3.10/site-packages/mujoco_py/builder.py:111\u001b[0m, in \u001b[0;36mload_cython_ext\u001b[0;34m(mujoco_path)\u001b[0m\n\u001b[1;32m    110\u001b[0m         cext_so_path \u001b[39m=\u001b[39m builder\u001b[39m.\u001b[39mbuild()\n\u001b[0;32m--> 111\u001b[0m         mod \u001b[39m=\u001b[39m load_dynamic_ext(\u001b[39m'\u001b[39;49m\u001b[39mcymj\u001b[39;49m\u001b[39m'\u001b[39;49m, cext_so_path)\n\u001b[1;32m    113\u001b[0m \u001b[39mreturn\u001b[39;00m mod\n",
      "File \u001b[0;32m/disk/scratch1/adamjelley/miniconda3/envs/CORL/lib/python3.10/site-packages/mujoco_py/builder.py:130\u001b[0m, in \u001b[0;36mload_dynamic_ext\u001b[0;34m(name, path)\u001b[0m\n\u001b[1;32m    129\u001b[0m loader \u001b[39m=\u001b[39m ExtensionFileLoader(name, path)\n\u001b[0;32m--> 130\u001b[0m \u001b[39mreturn\u001b[39;00m loader\u001b[39m.\u001b[39;49mload_module()\n",
      "\u001b[0;31mImportError\u001b[0m: libglewegl.so: cannot open shared object file: No such file or directory",
      "\nDuring handling of the above exception, another exception occurred:\n",
      "\u001b[0;31mDependencyNotInstalled\u001b[0m                    Traceback (most recent call last)",
      "Cell \u001b[0;32mIn[13], line 2\u001b[0m\n\u001b[1;32m      1\u001b[0m \u001b[39mimport\u001b[39;00m \u001b[39mgym\u001b[39;00m\n\u001b[0;32m----> 2\u001b[0m \u001b[39mimport\u001b[39;00m \u001b[39md4rl\u001b[39;00m\n\u001b[1;32m      4\u001b[0m env_name \u001b[39m=\u001b[39m \u001b[39m\"\u001b[39m\u001b[39mhalfcheetah-medium-v2\u001b[39m\u001b[39m\"\u001b[39m\n\u001b[1;32m      5\u001b[0m buffer_size: \u001b[39mint\u001b[39m \u001b[39m=\u001b[39m \u001b[39m2_000_000\u001b[39m  \u001b[39m# Replay buffer size\u001b[39;00m\n",
      "File \u001b[0;32m/disk/scratch1/adamjelley/miniconda3/envs/CORL/lib/python3.10/site-packages/d4rl/__init__.py:47\u001b[0m\n\u001b[1;32m     45\u001b[0m \u001b[39mtry\u001b[39;00m:\n\u001b[1;32m     46\u001b[0m     \u001b[39mimport\u001b[39;00m \u001b[39md4rl\u001b[39;00m\u001b[39m.\u001b[39;00m\u001b[39mgym_bullet\u001b[39;00m\n\u001b[0;32m---> 47\u001b[0m     \u001b[39mimport\u001b[39;00m \u001b[39md4rl\u001b[39;00m\u001b[39m.\u001b[39;00m\u001b[39mpointmaze_bullet\u001b[39;00m\n\u001b[1;32m     48\u001b[0m \u001b[39mexcept\u001b[39;00m \u001b[39mImportError\u001b[39;00m \u001b[39mas\u001b[39;00m e:\n\u001b[1;32m     49\u001b[0m     \u001b[39mif\u001b[39;00m \u001b[39mnot\u001b[39;00m SUPPRESS_MESSAGES:\n",
      "File \u001b[0;32m/disk/scratch1/adamjelley/miniconda3/envs/CORL/lib/python3.10/site-packages/d4rl/pointmaze_bullet/__init__.py:1\u001b[0m\n\u001b[0;32m----> 1\u001b[0m \u001b[39mfrom\u001b[39;00m \u001b[39m.\u001b[39;00m\u001b[39m.\u001b[39;00m\u001b[39mpointmaze\u001b[39;00m\u001b[39m.\u001b[39;00m\u001b[39mmaze_model\u001b[39;00m \u001b[39mimport\u001b[39;00m OPEN, U_MAZE, MEDIUM_MAZE, LARGE_MAZE, U_MAZE_EVAL, MEDIUM_MAZE_EVAL, LARGE_MAZE_EVAL\n\u001b[1;32m      2\u001b[0m \u001b[39mfrom\u001b[39;00m \u001b[39mgym\u001b[39;00m\u001b[39m.\u001b[39;00m\u001b[39menvs\u001b[39;00m\u001b[39m.\u001b[39;00m\u001b[39mregistration\u001b[39;00m \u001b[39mimport\u001b[39;00m register\n\u001b[1;32m      3\u001b[0m \u001b[39mfrom\u001b[39;00m \u001b[39md4rl\u001b[39;00m \u001b[39mimport\u001b[39;00m infos\n",
      "File \u001b[0;32m/disk/scratch1/adamjelley/miniconda3/envs/CORL/lib/python3.10/site-packages/d4rl/pointmaze/__init__.py:1\u001b[0m\n\u001b[0;32m----> 1\u001b[0m \u001b[39mfrom\u001b[39;00m \u001b[39m.\u001b[39;00m\u001b[39mmaze_model\u001b[39;00m \u001b[39mimport\u001b[39;00m MazeEnv, OPEN, U_MAZE, MEDIUM_MAZE, LARGE_MAZE, U_MAZE_EVAL, MEDIUM_MAZE_EVAL, LARGE_MAZE_EVAL\n\u001b[1;32m      2\u001b[0m \u001b[39mfrom\u001b[39;00m \u001b[39mgym\u001b[39;00m\u001b[39m.\u001b[39;00m\u001b[39menvs\u001b[39;00m\u001b[39m.\u001b[39;00m\u001b[39mregistration\u001b[39;00m \u001b[39mimport\u001b[39;00m register\n\u001b[1;32m      4\u001b[0m register(\n\u001b[1;32m      5\u001b[0m     \u001b[39mid\u001b[39m\u001b[39m=\u001b[39m\u001b[39m'\u001b[39m\u001b[39mmaze2d-open-v0\u001b[39m\u001b[39m'\u001b[39m,\n\u001b[1;32m      6\u001b[0m     entry_point\u001b[39m=\u001b[39m\u001b[39m'\u001b[39m\u001b[39md4rl.pointmaze:MazeEnv\u001b[39m\u001b[39m'\u001b[39m,\n\u001b[0;32m   (...)\u001b[0m\n\u001b[1;32m     15\u001b[0m     }\n\u001b[1;32m     16\u001b[0m )\n",
      "File \u001b[0;32m/disk/scratch1/adamjelley/miniconda3/envs/CORL/lib/python3.10/site-packages/d4rl/pointmaze/maze_model.py:2\u001b[0m\n\u001b[1;32m      1\u001b[0m \u001b[39m\"\"\" A pointmass maze env.\"\"\"\u001b[39;00m\n\u001b[0;32m----> 2\u001b[0m \u001b[39mfrom\u001b[39;00m \u001b[39mgym\u001b[39;00m\u001b[39m.\u001b[39;00m\u001b[39menvs\u001b[39;00m\u001b[39m.\u001b[39;00m\u001b[39mmujoco\u001b[39;00m \u001b[39mimport\u001b[39;00m mujoco_env\n\u001b[1;32m      3\u001b[0m \u001b[39mfrom\u001b[39;00m \u001b[39mgym\u001b[39;00m \u001b[39mimport\u001b[39;00m utils\n\u001b[1;32m      4\u001b[0m \u001b[39mfrom\u001b[39;00m \u001b[39md4rl\u001b[39;00m \u001b[39mimport\u001b[39;00m offline_env\n",
      "File \u001b[0;32m/disk/scratch1/adamjelley/miniconda3/envs/CORL/lib/python3.10/site-packages/gym/envs/mujoco/__init__.py:1\u001b[0m\n\u001b[0;32m----> 1\u001b[0m \u001b[39mfrom\u001b[39;00m \u001b[39mgym\u001b[39;00m\u001b[39m.\u001b[39;00m\u001b[39menvs\u001b[39;00m\u001b[39m.\u001b[39;00m\u001b[39mmujoco\u001b[39;00m\u001b[39m.\u001b[39;00m\u001b[39mmujoco_env\u001b[39;00m \u001b[39mimport\u001b[39;00m MujocoEnv\n\u001b[1;32m      3\u001b[0m \u001b[39m# ^^^^^ so that user gets the correct error\u001b[39;00m\n\u001b[1;32m      4\u001b[0m \u001b[39m# message if mujoco is not installed correctly\u001b[39;00m\n\u001b[1;32m      5\u001b[0m \u001b[39mfrom\u001b[39;00m \u001b[39mgym\u001b[39;00m\u001b[39m.\u001b[39;00m\u001b[39menvs\u001b[39;00m\u001b[39m.\u001b[39;00m\u001b[39mmujoco\u001b[39;00m\u001b[39m.\u001b[39;00m\u001b[39mant\u001b[39;00m \u001b[39mimport\u001b[39;00m AntEnv\n",
      "File \u001b[0;32m/disk/scratch1/adamjelley/miniconda3/envs/CORL/lib/python3.10/site-packages/gym/envs/mujoco/mujoco_env.py:14\u001b[0m\n\u001b[1;32m     12\u001b[0m     \u001b[39mimport\u001b[39;00m \u001b[39mmujoco_py\u001b[39;00m\n\u001b[1;32m     13\u001b[0m \u001b[39mexcept\u001b[39;00m \u001b[39mImportError\u001b[39;00m \u001b[39mas\u001b[39;00m e:\n\u001b[0;32m---> 14\u001b[0m     \u001b[39mraise\u001b[39;00m error\u001b[39m.\u001b[39mDependencyNotInstalled(\n\u001b[1;32m     15\u001b[0m         \u001b[39m\"\u001b[39m\u001b[39m{}\u001b[39;00m\u001b[39m. (HINT: you need to install mujoco_py, and also perform the setup instructions here: https://github.com/openai/mujoco-py/.)\u001b[39m\u001b[39m\"\u001b[39m\u001b[39m.\u001b[39mformat(\n\u001b[1;32m     16\u001b[0m             e\n\u001b[1;32m     17\u001b[0m         )\n\u001b[1;32m     18\u001b[0m     )\n\u001b[1;32m     20\u001b[0m DEFAULT_SIZE \u001b[39m=\u001b[39m \u001b[39m500\u001b[39m\n\u001b[1;32m     23\u001b[0m \u001b[39mdef\u001b[39;00m \u001b[39mconvert_observation_to_space\u001b[39m(observation):\n",
      "\u001b[0;31mDependencyNotInstalled\u001b[0m: libglewegl.so: cannot open shared object file: No such file or directory. (HINT: you need to install mujoco_py, and also perform the setup instructions here: https://github.com/openai/mujoco-py/.)"
     ]
    }
   ],
   "source": [
    "import gym\n",
    "import d4rl\n",
    "\n",
    "env_name = \"halfcheetah-medium-v2\"\n",
    "buffer_size: int = 2_000_000  # Replay buffer size\n",
    "batch_size: int = 256  # Batch size for all networks\n",
    "discount: float = 0.99\n",
    "device = \"cuda\"\n",
    "\n",
    "env = gym.make(env_name)\n",
    "\n",
    "state_dim = env.observation_space.shape[0]\n",
    "action_dim = env.action_space.shape[0]\n",
    "\n",
    "dataset = d4rl.qlearning_dataset(env)\n",
    "\n",
    "\n",
    "state_mean, state_std = compute_mean_std(dataset[\"observations\"], eps=1e-3)\n",
    "\n",
    "\n",
    "dataset[\"observations\"] = normalize_states(\n",
    "    dataset[\"observations\"], state_mean, state_std\n",
    ")\n",
    "dataset[\"next_observations\"] = normalize_states(\n",
    "    dataset[\"next_observations\"], state_mean, state_std\n",
    ")\n",
    "env = wrap_env(env, state_mean=state_mean, state_std=state_std)\n",
    "replay_buffer = ReplayBuffer(\n",
    "    state_dim,\n",
    "    action_dim,\n",
    "    buffer_size,\n",
    "    discount,\n",
    "    device,\n",
    ")\n",
    "replay_buffer.load_d4rl_dataset(dataset)\n"
   ]
  },
  {
   "cell_type": "code",
   "execution_count": 18,
   "metadata": {},
   "outputs": [],
   "source": [
    "import numpy as np\n",
    "import torch\n",
    "from torch.distributions import Normal\n"
   ]
  },
  {
   "cell_type": "code",
   "execution_count": 15,
   "metadata": {},
   "outputs": [
    {
     "data": {
      "text/plain": [
       "tensor(-0.9189)"
      ]
     },
     "execution_count": 15,
     "metadata": {},
     "output_type": "execute_result"
    }
   ],
   "source": [
    "dist = Normal(0, 1)\n",
    "dist.log_prob(torch.tensor(0))\n"
   ]
  },
  {
   "cell_type": "code",
   "execution_count": 20,
   "metadata": {},
   "outputs": [
    {
     "data": {
      "text/plain": [
       "tensor(-0.9189)"
      ]
     },
     "execution_count": 20,
     "metadata": {},
     "output_type": "execute_result"
    }
   ],
   "source": [
    "torch.log(1 / torch.sqrt(torch.tensor(2 * np.pi)))\n"
   ]
  },
  {
   "cell_type": "code",
   "execution_count": 1,
   "metadata": {},
   "outputs": [],
   "source": [
    "import pickle\n",
    "\n",
    "with open(\"halfcheetah_data.pkl\", \"rb\") as fp:\n",
    "    data = pickle.load(fp)\n"
   ]
  },
  {
   "cell_type": "code",
   "execution_count": 2,
   "metadata": {},
   "outputs": [
    {
     "data": {
      "text/plain": [
       "dict_keys(['actions', 'infos/action_log_probs', 'infos/qpos', 'infos/qvel', 'metadata/algorithm', 'metadata/iteration', 'metadata/policy/fc0/bias', 'metadata/policy/fc0/weight', 'metadata/policy/fc1/bias', 'metadata/policy/fc1/weight', 'metadata/policy/last_fc/bias', 'metadata/policy/last_fc/weight', 'metadata/policy/last_fc_log_std/bias', 'metadata/policy/last_fc_log_std/weight', 'metadata/policy/nonlinearity', 'metadata/policy/output_distribution', 'next_observations', 'observations', 'rewards', 'terminals', 'timeouts', 'returns_to_go'])"
      ]
     },
     "execution_count": 2,
     "metadata": {},
     "output_type": "execute_result"
    }
   ],
   "source": [
    "data.keys()\n"
   ]
  },
  {
   "cell_type": "code",
   "execution_count": 7,
   "metadata": {},
   "outputs": [
    {
     "data": {
      "text/plain": [
       "array([ 0.06236768, 10.693799  ,  9.811046  , ..., 12.667677  ,\n",
       "       10.444602  , 10.549735  ], dtype=float32)"
      ]
     },
     "execution_count": 7,
     "metadata": {},
     "output_type": "execute_result"
    }
   ],
   "source": [
    "data[\"infos/action_log_probs\"]\n"
   ]
  },
  {
   "cell_type": "code",
   "execution_count": 204,
   "metadata": {},
   "outputs": [],
   "source": [
    "import numpy as np\n",
    "import torch\n",
    "from typing import Dict, List\n",
    "\n",
    "TensorBatch = List[torch.Tensor]\n",
    "\n",
    "\n",
    "class ReplayBuffer:\n",
    "    def __init__(\n",
    "        self,\n",
    "        state_dim: int,\n",
    "        action_dim: int,\n",
    "        buffer_size: int,\n",
    "        discount: float,\n",
    "        device: str = \"cpu\",\n",
    "    ):\n",
    "        self._buffer_size = buffer_size\n",
    "        self._pointer = 0\n",
    "        self._size = 0\n",
    "\n",
    "        self._states = torch.zeros(\n",
    "            (buffer_size, state_dim), dtype=torch.float32, device=device\n",
    "        )\n",
    "        self._actions = torch.zeros(\n",
    "            (buffer_size, action_dim), dtype=torch.float32, device=device\n",
    "        )\n",
    "        self._rewards = torch.zeros((buffer_size, 1), dtype=torch.float32, device=device)\n",
    "        self._returns_to_go = torch.zeros(\n",
    "            (buffer_size, 1), dtype=torch.float32, device=device\n",
    "        )\n",
    "        self._next_states = torch.zeros(\n",
    "            (buffer_size, state_dim), dtype=torch.float32, device=device\n",
    "        )\n",
    "        self._dones = torch.zeros((buffer_size, 1), dtype=torch.float32, device=device)\n",
    "        self._discount = discount\n",
    "        self._device = device\n",
    "\n",
    "    def _to_tensor(self, data: np.ndarray) -> torch.Tensor:\n",
    "        return torch.tensor(data, dtype=torch.float32, device=self._device)\n",
    "\n",
    "    # Loads data in d4rl format, i.e. from Dict[str, np.array].\n",
    "    def load_d4rl_dataset(self, data: Dict[str, np.ndarray]):\n",
    "        if self._size != 0:\n",
    "            raise ValueError(\"Trying to load data into non-empty replay buffer\")\n",
    "        n_transitions = data[\"observations\"].shape[0]\n",
    "        if n_transitions > self._buffer_size:\n",
    "            raise ValueError(\n",
    "                \"Replay buffer is smaller than the dataset you are trying to load!\"\n",
    "            )\n",
    "\n",
    "        episode_rewards = []\n",
    "        returns_to_go = []\n",
    "\n",
    "        for i in range(n_transitions):\n",
    "            if data[\"terminals\"][i] or data[\"timeouts\"][i] or i == n_transitions - 1:\n",
    "                episode_rewards.append(\n",
    "                    data[\"rewards\"][i]\n",
    "                    # + 1 * torch.log(1 / torch.sqrt(torch.tensor(2 * np.pi)))\n",
    "                )\n",
    "                episode_returns_to_go = discount_cumsum(\n",
    "                    np.array(episode_rewards), self._discount\n",
    "                )\n",
    "                returns_to_go.append(episode_returns_to_go)\n",
    "                episode_rewards = []\n",
    "            else:\n",
    "                episode_rewards.append(data[\"rewards\"][i])\n",
    "        data[\"returns_to_go\"] = np.array(\n",
    "            [\n",
    "                return_to_go\n",
    "                for episode_returns in returns_to_go\n",
    "                for return_to_go in episode_returns\n",
    "            ]\n",
    "        ).flatten()\n",
    "\n",
    "        self._states[:n_transitions] = self._to_tensor(data[\"observations\"])\n",
    "        self._actions[:n_transitions] = self._to_tensor(data[\"actions\"])\n",
    "        self._rewards[:n_transitions] = self._to_tensor(data[\"rewards\"][..., None])\n",
    "        self._returns_to_go[:n_transitions] = self._to_tensor(\n",
    "            data[\"returns_to_go\"][..., None]\n",
    "        )\n",
    "        self._next_states[:n_transitions] = self._to_tensor(data[\"next_observations\"])\n",
    "        self._dones[:n_transitions] = self._to_tensor(\n",
    "            (data[\"terminals\"] + data[\"timeouts\"])[..., None]\n",
    "        )\n",
    "        self._size += n_transitions\n",
    "        self._pointer = min(self._size, n_transitions)\n",
    "\n",
    "        print(f\"Dataset size: {n_transitions}\")\n",
    "\n",
    "    def sample(self, batch_size: int) -> TensorBatch:\n",
    "        indices = np.random.randint(0, min(self._size, self._pointer), size=batch_size)\n",
    "        states = self._states[indices]\n",
    "        actions = self._actions[indices]\n",
    "        rewards = self._rewards[indices]\n",
    "        returns_to_go = self._returns_to_go[indices]\n",
    "        next_states = self._next_states[indices]\n",
    "        dones = self._dones[indices]\n",
    "        return [states, actions, rewards, returns_to_go, next_states, dones]\n",
    "\n",
    "    def add_transition(self):\n",
    "        # Use this method to add new data into the replay buffer during fine-tuning.\n",
    "        raise NotImplementedError\n"
   ]
  },
  {
   "cell_type": "code",
   "execution_count": 205,
   "metadata": {},
   "outputs": [],
   "source": [
    "def discount_cumsum(x, discount):\n",
    "    disc_cumsum = np.zeros_like(x)\n",
    "    disc_cumsum[-1] = x[-1]\n",
    "    for t in reversed(range(x.shape[0] - 1)):\n",
    "        disc_cumsum[t] = x[t] + discount * disc_cumsum[t + 1]\n",
    "    return disc_cumsum\n"
   ]
  },
  {
   "cell_type": "code",
   "execution_count": 206,
   "metadata": {},
   "outputs": [
    {
     "name": "stdout",
     "output_type": "stream",
     "text": [
      "Dataset size: 1000000\n"
     ]
    }
   ],
   "source": [
    "buffer = ReplayBuffer(\n",
    "    state_dim=17,\n",
    "    action_dim=6,\n",
    "    buffer_size=1000000,\n",
    "    discount=0.99,\n",
    "    device=\"cpu\",\n",
    ")\n",
    "buffer.load_d4rl_dataset(data)\n"
   ]
  },
  {
   "cell_type": "code",
   "execution_count": 111,
   "metadata": {},
   "outputs": [
    {
     "data": {
      "text/plain": [
       "tensor(1000.)"
      ]
     },
     "execution_count": 111,
     "metadata": {},
     "output_type": "execute_result"
    }
   ],
   "source": [
    "buffer._dones.sum()\n"
   ]
  },
  {
   "cell_type": "code",
   "execution_count": 112,
   "metadata": {},
   "outputs": [
    {
     "data": {
      "text/plain": [
       "tensor([[-0.2001],\n",
       "        [-1.1982],\n",
       "        [-0.6908],\n",
       "        ...,\n",
       "        [ 5.0046],\n",
       "        [ 4.3689],\n",
       "        [ 4.2333]])"
      ]
     },
     "execution_count": 112,
     "metadata": {},
     "output_type": "execute_result"
    }
   ],
   "source": [
    "buffer._rewards\n"
   ]
  },
  {
   "cell_type": "code",
   "execution_count": 113,
   "metadata": {},
   "outputs": [
    {
     "data": {
      "text/plain": [
       "tensor([[348.7453],\n",
       "        [352.4701],\n",
       "        [357.2407],\n",
       "        ...,\n",
       "        [ 12.5781],\n",
       "        [  7.6501],\n",
       "        [  3.3143]])"
      ]
     },
     "execution_count": 113,
     "metadata": {},
     "output_type": "execute_result"
    }
   ],
   "source": [
    "buffer._returns_to_go\n"
   ]
  },
  {
   "cell_type": "code",
   "execution_count": 114,
   "metadata": {},
   "outputs": [
    {
     "data": {
      "text/plain": [
       "(array([   999,   1999,   2999,   3999,   4999,   5999,   6999,   7999,\n",
       "          8999,   9999,  10999,  11999,  12999,  13999,  14999,  15999,\n",
       "         16999,  17999,  18999,  19999,  20999,  21999,  22999,  23999,\n",
       "         24999,  25999,  26999,  27999,  28999,  29999,  30999,  31999,\n",
       "         32999,  33999,  34999,  35999,  36999,  37999,  38999,  39999,\n",
       "         40999,  41999,  42999,  43999,  44999,  45999,  46999,  47999,\n",
       "         48999,  49999,  50999,  51999,  52999,  53999,  54999,  55999,\n",
       "         56999,  57999,  58999,  59999,  60999,  61999,  62999,  63999,\n",
       "         64999,  65999,  66999,  67999,  68999,  69999,  70999,  71999,\n",
       "         72999,  73999,  74999,  75999,  76999,  77999,  78999,  79999,\n",
       "         80999,  81999,  82999,  83999,  84999,  85999,  86999,  87999,\n",
       "         88999,  89999,  90999,  91999,  92999,  93999,  94999,  95999,\n",
       "         96999,  97999,  98999,  99999, 100999, 101999, 102999, 103999,\n",
       "        104999, 105999, 106999, 107999, 108999, 109999, 110999, 111999,\n",
       "        112999, 113999, 114999, 115999, 116999, 117999, 118999, 119999,\n",
       "        120999, 121999, 122999, 123999, 124999, 125999, 126999, 127999,\n",
       "        128999, 129999, 130999, 131999, 132999, 133999, 134999, 135999,\n",
       "        136999, 137999, 138999, 139999, 140999, 141999, 142999, 143999,\n",
       "        144999, 145999, 146999, 147999, 148999, 149999, 150999, 151999,\n",
       "        152999, 153999, 154999, 155999, 156999, 157999, 158999, 159999,\n",
       "        160999, 161999, 162999, 163999, 164999, 165999, 166999, 167999,\n",
       "        168999, 169999, 170999, 171999, 172999, 173999, 174999, 175999,\n",
       "        176999, 177999, 178999, 179999, 180999, 181999, 182999, 183999,\n",
       "        184999, 185999, 186999, 187999, 188999, 189999, 190999, 191999,\n",
       "        192999, 193999, 194999, 195999, 196999, 197999, 198999, 199999,\n",
       "        200999, 201999, 202999, 203999, 204999, 205999, 206999, 207999,\n",
       "        208999, 209999, 210999, 211999, 212999, 213999, 214999, 215999,\n",
       "        216999, 217999, 218999, 219999, 220999, 221999, 222999, 223999,\n",
       "        224999, 225999, 226999, 227999, 228999, 229999, 230999, 231999,\n",
       "        232999, 233999, 234999, 235999, 236999, 237999, 238999, 239999,\n",
       "        240999, 241999, 242999, 243999, 244999, 245999, 246999, 247999,\n",
       "        248999, 249999, 250999, 251999, 252999, 253999, 254999, 255999,\n",
       "        256999, 257999, 258999, 259999, 260999, 261999, 262999, 263999,\n",
       "        264999, 265999, 266999, 267999, 268999, 269999, 270999, 271999,\n",
       "        272999, 273999, 274999, 275999, 276999, 277999, 278999, 279999,\n",
       "        280999, 281999, 282999, 283999, 284999, 285999, 286999, 287999,\n",
       "        288999, 289999, 290999, 291999, 292999, 293999, 294999, 295999,\n",
       "        296999, 297999, 298999, 299999, 300999, 301999, 302999, 303999,\n",
       "        304999, 305999, 306999, 307999, 308999, 309999, 310999, 311999,\n",
       "        312999, 313999, 314999, 315999, 316999, 317999, 318999, 319999,\n",
       "        320999, 321999, 322999, 323999, 324999, 325999, 326999, 327999,\n",
       "        328999, 329999, 330999, 331999, 332999, 333999, 334999, 335999,\n",
       "        336999, 337999, 338999, 339999, 340999, 341999, 342999, 343999,\n",
       "        344999, 345999, 346999, 347999, 348999, 349999, 350999, 351999,\n",
       "        352999, 353999, 354999, 355999, 356999, 357999, 358999, 359999,\n",
       "        360999, 361999, 362999, 363999, 364999, 365999, 366999, 367999,\n",
       "        368999, 369999, 370999, 371999, 372999, 373999, 374999, 375999,\n",
       "        376999, 377999, 378999, 379999, 380999, 381999, 382999, 383999,\n",
       "        384999, 385999, 386999, 387999, 388999, 389999, 390999, 391999,\n",
       "        392999, 393999, 394999, 395999, 396999, 397999, 398999, 399999,\n",
       "        400999, 401999, 402999, 403999, 404999, 405999, 406999, 407999,\n",
       "        408999, 409999, 410999, 411999, 412999, 413999, 414999, 415999,\n",
       "        416999, 417999, 418999, 419999, 420999, 421999, 422999, 423999,\n",
       "        424999, 425999, 426999, 427999, 428999, 429999, 430999, 431999,\n",
       "        432999, 433999, 434999, 435999, 436999, 437999, 438999, 439999,\n",
       "        440999, 441999, 442999, 443999, 444999, 445999, 446999, 447999,\n",
       "        448999, 449999, 450999, 451999, 452999, 453999, 454999, 455999,\n",
       "        456999, 457999, 458999, 459999, 460999, 461999, 462999, 463999,\n",
       "        464999, 465999, 466999, 467999, 468999, 469999, 470999, 471999,\n",
       "        472999, 473999, 474999, 475999, 476999, 477999, 478999, 479999,\n",
       "        480999, 481999, 482999, 483999, 484999, 485999, 486999, 487999,\n",
       "        488999, 489999, 490999, 491999, 492999, 493999, 494999, 495999,\n",
       "        496999, 497999, 498999, 499999, 500999, 501999, 502999, 503999,\n",
       "        504999, 505999, 506999, 507999, 508999, 509999, 510999, 511999,\n",
       "        512999, 513999, 514999, 515999, 516999, 517999, 518999, 519999,\n",
       "        520999, 521999, 522999, 523999, 524999, 525999, 526999, 527999,\n",
       "        528999, 529999, 530999, 531999, 532999, 533999, 534999, 535999,\n",
       "        536999, 537999, 538999, 539999, 540999, 541999, 542999, 543999,\n",
       "        544999, 545999, 546999, 547999, 548999, 549999, 550999, 551999,\n",
       "        552999, 553999, 554999, 555999, 556999, 557999, 558999, 559999,\n",
       "        560999, 561999, 562999, 563999, 564999, 565999, 566999, 567999,\n",
       "        568999, 569999, 570999, 571999, 572999, 573999, 574999, 575999,\n",
       "        576999, 577999, 578999, 579999, 580999, 581999, 582999, 583999,\n",
       "        584999, 585999, 586999, 587999, 588999, 589999, 590999, 591999,\n",
       "        592999, 593999, 594999, 595999, 596999, 597999, 598999, 599999,\n",
       "        600999, 601999, 602999, 603999, 604999, 605999, 606999, 607999,\n",
       "        608999, 609999, 610999, 611999, 612999, 613999, 614999, 615999,\n",
       "        616999, 617999, 618999, 619999, 620999, 621999, 622999, 623999,\n",
       "        624999, 625999, 626999, 627999, 628999, 629999, 630999, 631999,\n",
       "        632999, 633999, 634999, 635999, 636999, 637999, 638999, 639999,\n",
       "        640999, 641999, 642999, 643999, 644999, 645999, 646999, 647999,\n",
       "        648999, 649999, 650999, 651999, 652999, 653999, 654999, 655999,\n",
       "        656999, 657999, 658999, 659999, 660999, 661999, 662999, 663999,\n",
       "        664999, 665999, 666999, 667999, 668999, 669999, 670999, 671999,\n",
       "        672999, 673999, 674999, 675999, 676999, 677999, 678999, 679999,\n",
       "        680999, 681999, 682999, 683999, 684999, 685999, 686999, 687999,\n",
       "        688999, 689999, 690999, 691999, 692999, 693999, 694999, 695999,\n",
       "        696999, 697999, 698999, 699999, 700999, 701999, 702999, 703999,\n",
       "        704999, 705999, 706999, 707999, 708999, 709999, 710999, 711999,\n",
       "        712999, 713999, 714999, 715999, 716999, 717999, 718999, 719999,\n",
       "        720999, 721999, 722999, 723999, 724999, 725999, 726999, 727999,\n",
       "        728999, 729999, 730999, 731999, 732999, 733999, 734999, 735999,\n",
       "        736999, 737999, 738999, 739999, 740999, 741999, 742999, 743999,\n",
       "        744999, 745999, 746999, 747999, 748999, 749999, 750999, 751999,\n",
       "        752999, 753999, 754999, 755999, 756999, 757999, 758999, 759999,\n",
       "        760999, 761999, 762999, 763999, 764999, 765999, 766999, 767999,\n",
       "        768999, 769999, 770999, 771999, 772999, 773999, 774999, 775999,\n",
       "        776999, 777999, 778999, 779999, 780999, 781999, 782999, 783999,\n",
       "        784999, 785999, 786999, 787999, 788999, 789999, 790999, 791999,\n",
       "        792999, 793999, 794999, 795999, 796999, 797999, 798999, 799999,\n",
       "        800999, 801999, 802999, 803999, 804999, 805999, 806999, 807999,\n",
       "        808999, 809999, 810999, 811999, 812999, 813999, 814999, 815999,\n",
       "        816999, 817999, 818999, 819999, 820999, 821999, 822999, 823999,\n",
       "        824999, 825999, 826999, 827999, 828999, 829999, 830999, 831999,\n",
       "        832999, 833999, 834999, 835999, 836999, 837999, 838999, 839999,\n",
       "        840999, 841999, 842999, 843999, 844999, 845999, 846999, 847999,\n",
       "        848999, 849999, 850999, 851999, 852999, 853999, 854999, 855999,\n",
       "        856999, 857999, 858999, 859999, 860999, 861999, 862999, 863999,\n",
       "        864999, 865999, 866999, 867999, 868999, 869999, 870999, 871999,\n",
       "        872999, 873999, 874999, 875999, 876999, 877999, 878999, 879999,\n",
       "        880999, 881999, 882999, 883999, 884999, 885999, 886999, 887999,\n",
       "        888999, 889999, 890999, 891999, 892999, 893999, 894999, 895999,\n",
       "        896999, 897999, 898999, 899999, 900999, 901999, 902999, 903999,\n",
       "        904999, 905999, 906999, 907999, 908999, 909999, 910999, 911999,\n",
       "        912999, 913999, 914999, 915999, 916999, 917999, 918999, 919999,\n",
       "        920999, 921999, 922999, 923999, 924999, 925999, 926999, 927999,\n",
       "        928999, 929999, 930999, 931999, 932999, 933999, 934999, 935999,\n",
       "        936999, 937999, 938999, 939999, 940999, 941999, 942999, 943999,\n",
       "        944999, 945999, 946999, 947999, 948999, 949999, 950999, 951999,\n",
       "        952999, 953999, 954999, 955999, 956999, 957999, 958999, 959999,\n",
       "        960999, 961999, 962999, 963999, 964999, 965999, 966999, 967999,\n",
       "        968999, 969999, 970999, 971999, 972999, 973999, 974999, 975999,\n",
       "        976999, 977999, 978999, 979999, 980999, 981999, 982999, 983999,\n",
       "        984999, 985999, 986999, 987999, 988999, 989999, 990999, 991999,\n",
       "        992999, 993999, 994999, 995999, 996999, 997999, 998999, 999999]),\n",
       " array([0, 0, 0, 0, 0, 0, 0, 0, 0, 0, 0, 0, 0, 0, 0, 0, 0, 0, 0, 0, 0, 0,\n",
       "        0, 0, 0, 0, 0, 0, 0, 0, 0, 0, 0, 0, 0, 0, 0, 0, 0, 0, 0, 0, 0, 0,\n",
       "        0, 0, 0, 0, 0, 0, 0, 0, 0, 0, 0, 0, 0, 0, 0, 0, 0, 0, 0, 0, 0, 0,\n",
       "        0, 0, 0, 0, 0, 0, 0, 0, 0, 0, 0, 0, 0, 0, 0, 0, 0, 0, 0, 0, 0, 0,\n",
       "        0, 0, 0, 0, 0, 0, 0, 0, 0, 0, 0, 0, 0, 0, 0, 0, 0, 0, 0, 0, 0, 0,\n",
       "        0, 0, 0, 0, 0, 0, 0, 0, 0, 0, 0, 0, 0, 0, 0, 0, 0, 0, 0, 0, 0, 0,\n",
       "        0, 0, 0, 0, 0, 0, 0, 0, 0, 0, 0, 0, 0, 0, 0, 0, 0, 0, 0, 0, 0, 0,\n",
       "        0, 0, 0, 0, 0, 0, 0, 0, 0, 0, 0, 0, 0, 0, 0, 0, 0, 0, 0, 0, 0, 0,\n",
       "        0, 0, 0, 0, 0, 0, 0, 0, 0, 0, 0, 0, 0, 0, 0, 0, 0, 0, 0, 0, 0, 0,\n",
       "        0, 0, 0, 0, 0, 0, 0, 0, 0, 0, 0, 0, 0, 0, 0, 0, 0, 0, 0, 0, 0, 0,\n",
       "        0, 0, 0, 0, 0, 0, 0, 0, 0, 0, 0, 0, 0, 0, 0, 0, 0, 0, 0, 0, 0, 0,\n",
       "        0, 0, 0, 0, 0, 0, 0, 0, 0, 0, 0, 0, 0, 0, 0, 0, 0, 0, 0, 0, 0, 0,\n",
       "        0, 0, 0, 0, 0, 0, 0, 0, 0, 0, 0, 0, 0, 0, 0, 0, 0, 0, 0, 0, 0, 0,\n",
       "        0, 0, 0, 0, 0, 0, 0, 0, 0, 0, 0, 0, 0, 0, 0, 0, 0, 0, 0, 0, 0, 0,\n",
       "        0, 0, 0, 0, 0, 0, 0, 0, 0, 0, 0, 0, 0, 0, 0, 0, 0, 0, 0, 0, 0, 0,\n",
       "        0, 0, 0, 0, 0, 0, 0, 0, 0, 0, 0, 0, 0, 0, 0, 0, 0, 0, 0, 0, 0, 0,\n",
       "        0, 0, 0, 0, 0, 0, 0, 0, 0, 0, 0, 0, 0, 0, 0, 0, 0, 0, 0, 0, 0, 0,\n",
       "        0, 0, 0, 0, 0, 0, 0, 0, 0, 0, 0, 0, 0, 0, 0, 0, 0, 0, 0, 0, 0, 0,\n",
       "        0, 0, 0, 0, 0, 0, 0, 0, 0, 0, 0, 0, 0, 0, 0, 0, 0, 0, 0, 0, 0, 0,\n",
       "        0, 0, 0, 0, 0, 0, 0, 0, 0, 0, 0, 0, 0, 0, 0, 0, 0, 0, 0, 0, 0, 0,\n",
       "        0, 0, 0, 0, 0, 0, 0, 0, 0, 0, 0, 0, 0, 0, 0, 0, 0, 0, 0, 0, 0, 0,\n",
       "        0, 0, 0, 0, 0, 0, 0, 0, 0, 0, 0, 0, 0, 0, 0, 0, 0, 0, 0, 0, 0, 0,\n",
       "        0, 0, 0, 0, 0, 0, 0, 0, 0, 0, 0, 0, 0, 0, 0, 0, 0, 0, 0, 0, 0, 0,\n",
       "        0, 0, 0, 0, 0, 0, 0, 0, 0, 0, 0, 0, 0, 0, 0, 0, 0, 0, 0, 0, 0, 0,\n",
       "        0, 0, 0, 0, 0, 0, 0, 0, 0, 0, 0, 0, 0, 0, 0, 0, 0, 0, 0, 0, 0, 0,\n",
       "        0, 0, 0, 0, 0, 0, 0, 0, 0, 0, 0, 0, 0, 0, 0, 0, 0, 0, 0, 0, 0, 0,\n",
       "        0, 0, 0, 0, 0, 0, 0, 0, 0, 0, 0, 0, 0, 0, 0, 0, 0, 0, 0, 0, 0, 0,\n",
       "        0, 0, 0, 0, 0, 0, 0, 0, 0, 0, 0, 0, 0, 0, 0, 0, 0, 0, 0, 0, 0, 0,\n",
       "        0, 0, 0, 0, 0, 0, 0, 0, 0, 0, 0, 0, 0, 0, 0, 0, 0, 0, 0, 0, 0, 0,\n",
       "        0, 0, 0, 0, 0, 0, 0, 0, 0, 0, 0, 0, 0, 0, 0, 0, 0, 0, 0, 0, 0, 0,\n",
       "        0, 0, 0, 0, 0, 0, 0, 0, 0, 0, 0, 0, 0, 0, 0, 0, 0, 0, 0, 0, 0, 0,\n",
       "        0, 0, 0, 0, 0, 0, 0, 0, 0, 0, 0, 0, 0, 0, 0, 0, 0, 0, 0, 0, 0, 0,\n",
       "        0, 0, 0, 0, 0, 0, 0, 0, 0, 0, 0, 0, 0, 0, 0, 0, 0, 0, 0, 0, 0, 0,\n",
       "        0, 0, 0, 0, 0, 0, 0, 0, 0, 0, 0, 0, 0, 0, 0, 0, 0, 0, 0, 0, 0, 0,\n",
       "        0, 0, 0, 0, 0, 0, 0, 0, 0, 0, 0, 0, 0, 0, 0, 0, 0, 0, 0, 0, 0, 0,\n",
       "        0, 0, 0, 0, 0, 0, 0, 0, 0, 0, 0, 0, 0, 0, 0, 0, 0, 0, 0, 0, 0, 0,\n",
       "        0, 0, 0, 0, 0, 0, 0, 0, 0, 0, 0, 0, 0, 0, 0, 0, 0, 0, 0, 0, 0, 0,\n",
       "        0, 0, 0, 0, 0, 0, 0, 0, 0, 0, 0, 0, 0, 0, 0, 0, 0, 0, 0, 0, 0, 0,\n",
       "        0, 0, 0, 0, 0, 0, 0, 0, 0, 0, 0, 0, 0, 0, 0, 0, 0, 0, 0, 0, 0, 0,\n",
       "        0, 0, 0, 0, 0, 0, 0, 0, 0, 0, 0, 0, 0, 0, 0, 0, 0, 0, 0, 0, 0, 0,\n",
       "        0, 0, 0, 0, 0, 0, 0, 0, 0, 0, 0, 0, 0, 0, 0, 0, 0, 0, 0, 0, 0, 0,\n",
       "        0, 0, 0, 0, 0, 0, 0, 0, 0, 0, 0, 0, 0, 0, 0, 0, 0, 0, 0, 0, 0, 0,\n",
       "        0, 0, 0, 0, 0, 0, 0, 0, 0, 0, 0, 0, 0, 0, 0, 0, 0, 0, 0, 0, 0, 0,\n",
       "        0, 0, 0, 0, 0, 0, 0, 0, 0, 0, 0, 0, 0, 0, 0, 0, 0, 0, 0, 0, 0, 0,\n",
       "        0, 0, 0, 0, 0, 0, 0, 0, 0, 0, 0, 0, 0, 0, 0, 0, 0, 0, 0, 0, 0, 0,\n",
       "        0, 0, 0, 0, 0, 0, 0, 0, 0, 0]))"
      ]
     },
     "execution_count": 114,
     "metadata": {},
     "output_type": "execute_result"
    }
   ],
   "source": [
    "np.where(buffer._dones == 1)\n"
   ]
  },
  {
   "cell_type": "code",
   "execution_count": 133,
   "metadata": {},
   "outputs": [
    {
     "data": {
      "text/plain": [
       "tensor([[4.4809],\n",
       "        [4.6541],\n",
       "        [3.9185],\n",
       "        [4.6037],\n",
       "        [5.2190],\n",
       "        [4.9066],\n",
       "        [4.7655],\n",
       "        [5.0046],\n",
       "        [4.3689],\n",
       "        [4.2333]])"
      ]
     },
     "execution_count": 133,
     "metadata": {},
     "output_type": "execute_result"
    }
   ],
   "source": [
    "buffer._rewards[-10:]\n"
   ]
  },
  {
   "cell_type": "code",
   "execution_count": 131,
   "metadata": {},
   "outputs": [
    {
     "data": {
      "text/plain": [
       "array([[44.12516  ],\n",
       "       [40.044678 ],\n",
       "       [35.748028 ],\n",
       "       [32.151016 ],\n",
       "       [27.825603 ],\n",
       "       [22.834997 ],\n",
       "       [18.109516 ],\n",
       "       [13.478801 ],\n",
       "       [ 8.559839 ],\n",
       "       [ 4.2332683]], dtype=float32)"
      ]
     },
     "execution_count": 131,
     "metadata": {},
     "output_type": "execute_result"
    }
   ],
   "source": [
    "discount_cumsum(buffer._rewards[-10:], discount=0.99)\n"
   ]
  },
  {
   "cell_type": "code",
   "execution_count": 134,
   "metadata": {},
   "outputs": [
    {
     "data": {
      "text/plain": [
       "tensor([[43.2857],\n",
       "        [39.1967],\n",
       "        [34.8915],\n",
       "        [31.2859],\n",
       "        [26.9517],\n",
       "        [21.9523],\n",
       "        [17.2179],\n",
       "        [12.5781],\n",
       "        [ 7.6501],\n",
       "        [ 3.3143]])"
      ]
     },
     "execution_count": 134,
     "metadata": {},
     "output_type": "execute_result"
    }
   ],
   "source": [
    "buffer._returns_to_go[-10:]\n"
   ]
  },
  {
   "cell_type": "code",
   "execution_count": 135,
   "metadata": {},
   "outputs": [
    {
     "name": "stdout",
     "output_type": "stream",
     "text": [
      "[4.4809294, 4.65413, 3.9185214, 4.60367, 5.218956, 4.9065757, 4.7655034, 5.0045595, 4.368903, 4.2332683]\n",
      "1000\n",
      "[44.12516   40.044678  35.748028  32.151016  27.825603  22.834997\n",
      " 18.109516  13.4788     8.559838   4.2332683]\n",
      "[44.12516   40.044678  35.748028  32.151016  27.825603  22.834997\n",
      " 18.109516  13.4788     8.559838   4.2332683]\n"
     ]
    }
   ],
   "source": [
    "n_transitions = data[\"observations\"].shape[0]\n",
    "if n_transitions > 1000000:\n",
    "    raise ValueError(\"Replay buffer is smaller than the dataset you are trying to load!\")\n",
    "\n",
    "episode_rewards = []\n",
    "returns_to_go = []\n",
    "count = 0\n",
    "for i in range(n_transitions):\n",
    "    if data[\"terminals\"][i] or data[\"timeouts\"][i] or i == n_transitions - 1:\n",
    "        episode_rewards.append(\n",
    "            data[\"rewards\"][i]\n",
    "            # + 1 * torch.log(1 / torch.sqrt(torch.tensor(2 * np.pi)))\n",
    "        )\n",
    "        count += 1\n",
    "\n",
    "        episode_returns_to_go = discount_cumsum(np.array(episode_rewards), 0.99)\n",
    "        returns_to_go.append(episode_returns_to_go)\n",
    "        if count == 1000:\n",
    "            print(episode_rewards[-10:])\n",
    "            print(len(episode_returns_to_go))\n",
    "            print((returns_to_go)[-1][-10:])\n",
    "        episode_rewards = []\n",
    "    else:\n",
    "        episode_rewards.append(data[\"rewards\"][i])\n",
    "data[\"returns_to_go\"] = np.array(\n",
    "    [\n",
    "        return_to_go\n",
    "        for episode_returns in returns_to_go\n",
    "        for return_to_go in episode_returns\n",
    "    ]\n",
    ").flatten()\n",
    "print(data[\"returns_to_go\"][-10:])\n"
   ]
  },
  {
   "cell_type": "code",
   "execution_count": 140,
   "metadata": {},
   "outputs": [
    {
     "name": "stdout",
     "output_type": "stream",
     "text": [
      "[44.12516   40.044678  35.748028  32.151016  27.825603  22.834997\n",
      " 18.109516  13.4788     8.559838   4.2332683]\n"
     ]
    }
   ],
   "source": [
    "print(data[\"returns_to_go\"][-10:])\n"
   ]
  },
  {
   "cell_type": "code",
   "execution_count": 141,
   "metadata": {},
   "outputs": [
    {
     "name": "stdout",
     "output_type": "stream",
     "text": [
      "tensor([[43.2857],\n",
      "        [39.1967],\n",
      "        [34.8915],\n",
      "        [31.2859],\n",
      "        [26.9517],\n",
      "        [21.9523],\n",
      "        [17.2179],\n",
      "        [12.5781],\n",
      "        [ 7.6501],\n",
      "        [ 3.3143]])\n"
     ]
    }
   ],
   "source": [
    "print(buffer._returns_to_go[-10:])\n"
   ]
  },
  {
   "cell_type": "code",
   "execution_count": 179,
   "metadata": {},
   "outputs": [
    {
     "data": {
      "text/plain": [
       "4.2332683"
      ]
     },
     "execution_count": 179,
     "metadata": {},
     "output_type": "execute_result"
    }
   ],
   "source": [
    "data[\"returns_to_go\"][999999]\n"
   ]
  },
  {
   "cell_type": "code",
   "execution_count": 178,
   "metadata": {},
   "outputs": [
    {
     "data": {
      "text/plain": [
       "tensor([3.3143])"
      ]
     },
     "execution_count": 178,
     "metadata": {},
     "output_type": "execute_result"
    }
   ],
   "source": [
    "buffer._returns_to_go[999999]\n"
   ]
  },
  {
   "cell_type": "code",
   "execution_count": 175,
   "metadata": {},
   "outputs": [],
   "source": [
    "test = torch.tensor(data[\"returns_to_go\"], dtype=torch.float32, device=\"cpu\")\n"
   ]
  },
  {
   "cell_type": "code",
   "execution_count": 177,
   "metadata": {},
   "outputs": [
    {
     "data": {
      "text/plain": [
       "tensor([44.1252, 40.0447, 35.7480, 32.1510, 27.8256, 22.8350, 18.1095, 13.4788,\n",
       "         8.5598,  4.2333])"
      ]
     },
     "execution_count": 177,
     "metadata": {},
     "output_type": "execute_result"
    }
   ],
   "source": [
    "test[-10:]\n"
   ]
  },
  {
   "cell_type": "code",
   "execution_count": 214,
   "metadata": {},
   "outputs": [
    {
     "data": {
      "text/plain": [
       "array([44.12516  , 40.044678 , 35.748028 , 32.151016 , 27.825603 ,\n",
       "       22.834997 , 18.109516 , 13.4788   ,  8.559838 ,  4.2332683],\n",
       "      dtype=float32)"
      ]
     },
     "execution_count": 214,
     "metadata": {},
     "output_type": "execute_result"
    }
   ],
   "source": [
    "data[\"returns_to_go\"][-10:]\n"
   ]
  },
  {
   "cell_type": "code",
   "execution_count": 215,
   "metadata": {},
   "outputs": [
    {
     "data": {
      "text/plain": [
       "tensor([[44.1252],\n",
       "        [40.0447],\n",
       "        [35.7480],\n",
       "        [32.1510],\n",
       "        [27.8256],\n",
       "        [22.8350],\n",
       "        [18.1095],\n",
       "        [13.4788],\n",
       "        [ 8.5598],\n",
       "        [ 4.2333]])"
      ]
     },
     "execution_count": 215,
     "metadata": {},
     "output_type": "execute_result"
    }
   ],
   "source": [
    "buffer._returns_to_go[-10:]\n"
   ]
  },
  {
   "cell_type": "code",
   "execution_count": 201,
   "metadata": {},
   "outputs": [
    {
     "data": {
      "text/plain": [
       "tensor([[0.],\n",
       "        [0.],\n",
       "        [0.],\n",
       "        [0.],\n",
       "        [0.],\n",
       "        [0.],\n",
       "        [0.],\n",
       "        [0.],\n",
       "        [0.],\n",
       "        [1.],\n",
       "        [0.]])"
      ]
     },
     "execution_count": 201,
     "metadata": {},
     "output_type": "execute_result"
    }
   ],
   "source": [
    "buffer._dones[990:1001]\n"
   ]
  },
  {
   "cell_type": "code",
   "execution_count": 35,
   "metadata": {},
   "outputs": [],
   "source": [
    "import numpy as np\n",
    "import torch\n",
    "import torch.nn as nn\n",
    "from typing import Optional, Tuple\n",
    "from torch.distributions import Normal\n",
    "\n",
    "\n",
    "class Actor(nn.Module):\n",
    "    def __init__(\n",
    "        self, state_dim: int, action_dim: int, hidden_dim: int, max_action: float = 1.0\n",
    "    ):\n",
    "        super().__init__()\n",
    "        self.trunk = nn.Sequential(\n",
    "            nn.Linear(state_dim, hidden_dim),\n",
    "            nn.LayerNorm(hidden_dim, elementwise_affine=False),\n",
    "            nn.ReLU(),\n",
    "            nn.Linear(hidden_dim, hidden_dim),\n",
    "            nn.LayerNorm(hidden_dim, elementwise_affine=False),\n",
    "            nn.ReLU(),\n",
    "            nn.Linear(hidden_dim, hidden_dim),\n",
    "            nn.LayerNorm(hidden_dim, elementwise_affine=False),\n",
    "            nn.ReLU(),\n",
    "        )\n",
    "        # with separate layers works better than with Linear(hidden_dim, 2 * action_dim)\n",
    "        self.mu = nn.Linear(hidden_dim, action_dim)\n",
    "        self.log_sigma = nn.Linear(hidden_dim, action_dim)\n",
    "\n",
    "        # init as in the EDAC paper\n",
    "        for layer in self.trunk[::3]:\n",
    "            torch.nn.init.constant_(layer.bias, 0.1)\n",
    "\n",
    "        torch.nn.init.uniform_(self.mu.weight, -1e-3, 1e-3)\n",
    "        torch.nn.init.uniform_(self.mu.bias, -1e-3, 1e-3)\n",
    "        torch.nn.init.uniform_(self.log_sigma.weight, -1e-3, 1e-3)\n",
    "        torch.nn.init.uniform_(self.log_sigma.bias, -1e-3, 1e-3)\n",
    "\n",
    "        self.action_dim = action_dim\n",
    "        self.max_action = max_action\n",
    "\n",
    "    def forward(\n",
    "        self,\n",
    "        state: torch.Tensor,\n",
    "        deterministic: bool = False,\n",
    "        need_log_prob: bool = False,\n",
    "    ) -> Tuple[torch.Tensor, Optional[torch.Tensor]]:\n",
    "        hidden = self.trunk(state)\n",
    "        mu, log_sigma = self.mu(hidden), self.log_sigma(hidden)\n",
    "        # print(torch.exp(log_sigma).mean())\n",
    "\n",
    "        # clipping params from EDAC paper, not as in SAC paper (-20, 2)\n",
    "        log_sigma = torch.clip(log_sigma, -5, 2)\n",
    "        policy_dist = Normal(mu, torch.exp(log_sigma))\n",
    "\n",
    "        if deterministic:\n",
    "            action = mu\n",
    "        else:\n",
    "            action = policy_dist.rsample()\n",
    "\n",
    "        tanh_action, log_prob = torch.tanh(action), None\n",
    "        if need_log_prob:\n",
    "            # change of variables formula (SAC paper, appendix C, eq 21)\n",
    "            log_prob = policy_dist.log_prob(action).sum(axis=-1)\n",
    "            log_prob = log_prob - torch.log(1 - tanh_action.pow(2) + 1e-6).sum(axis=-1)\n",
    "\n",
    "        return tanh_action * self.max_action, log_prob\n"
   ]
  },
  {
   "cell_type": "code",
   "execution_count": 57,
   "metadata": {},
   "outputs": [],
   "source": [
    "actor = Actor(10, 1, 256)\n"
   ]
  },
  {
   "cell_type": "code",
   "execution_count": 62,
   "metadata": {},
   "outputs": [
    {
     "data": {
      "text/plain": [
       "(tensor([0.0059], grad_fn=<MulBackward0>),\n",
       " tensor(-0.9226, grad_fn=<SubBackward0>))"
      ]
     },
     "execution_count": 62,
     "metadata": {},
     "output_type": "execute_result"
    }
   ],
   "source": [
    "actor(torch.randn(10), deterministic=True, need_log_prob=True)\n"
   ]
  },
  {
   "cell_type": "code",
   "execution_count": 63,
   "metadata": {},
   "outputs": [
    {
     "data": {
      "text/plain": [
       "tensor(-2.7568)"
      ]
     },
     "execution_count": 63,
     "metadata": {},
     "output_type": "execute_result"
    }
   ],
   "source": [
    "torch.log(1 / torch.sqrt(torch.tensor(2 * np.pi))) * 3\n"
   ]
  },
  {
   "cell_type": "code",
   "execution_count": 50,
   "metadata": {},
   "outputs": [],
   "source": [
    "dist = Normal(3, 1)\n"
   ]
  },
  {
   "cell_type": "code",
   "execution_count": 56,
   "metadata": {},
   "outputs": [
    {
     "data": {
      "text/plain": [
       "tensor(-0.9189)"
      ]
     },
     "execution_count": 56,
     "metadata": {},
     "output_type": "execute_result"
    }
   ],
   "source": [
    "dist.log_prob(torch.tensor(3))\n"
   ]
  },
  {
   "cell_type": "code",
   "execution_count": 73,
   "metadata": {},
   "outputs": [],
   "source": [
    "x = np.array([2 * x for x in (range(5))])\n"
   ]
  },
  {
   "cell_type": "code",
   "execution_count": 70,
   "metadata": {},
   "outputs": [],
   "source": [
    "def discount_cumsum(x, discount, include_first=True):\n",
    "    disc_cumsum = np.zeros_like(x)\n",
    "    if include_first:\n",
    "        disc_cumsum[-1] = x[-1]\n",
    "        for t in reversed(range(x.shape[0] - 1)):\n",
    "            disc_cumsum[t] = x[t] + discount * disc_cumsum[t + 1]\n",
    "    else:\n",
    "        disc_cumsum[-1] = 0\n",
    "        for t in reversed(range(x.shape[0] - 1)):\n",
    "            disc_cumsum[t] = discount * x[t + 1] + discount * disc_cumsum[t + 1]\n",
    "    return disc_cumsum\n"
   ]
  },
  {
   "cell_type": "code",
   "execution_count": 76,
   "metadata": {},
   "outputs": [
    {
     "name": "stdout",
     "output_type": "stream",
     "text": [
      "[0 2 4 6 8]\n",
      "[3 4 5 4 0]\n"
     ]
    }
   ],
   "source": [
    "print(x)\n",
    "print(discount_cumsum(x, 0.5, include_first=False))\n"
   ]
  },
  {
   "cell_type": "code",
   "execution_count": 3,
   "metadata": {},
   "outputs": [],
   "source": [
    "import numpy as np\n",
    "\n",
    "\n",
    "def gaussian(x, mu, sigma):\n",
    "    y = (1 / np.sqrt(2 * np.pi * sigma**2)) * np.exp(-((x - mu) ** 2) / 2 * sigma**2)\n",
    "    return y\n"
   ]
  },
  {
   "cell_type": "code",
   "execution_count": 19,
   "metadata": {},
   "outputs": [
    {
     "data": {
      "text/plain": [
       "[<matplotlib.lines.Line2D at 0x7f37e1535420>]"
      ]
     },
     "execution_count": 19,
     "metadata": {},
     "output_type": "execute_result"
    },
    {
     "data": {
      "image/png": "[encoded data removed]",
      "text/plain": [
       "<Figure size 640x480 with 1 Axes>"
      ]
     },
     "metadata": {},
     "output_type": "display_data"
    }
   ],
   "source": [
    "import matplotlib.pyplot as plt\n",
    "\n",
    "\n",
    "x = np.linspace(-2, 2, 100)\n",
    "y = [gaussian(x, 0, 1) for x in np.linspace(-2, 2, 100)]\n",
    "plt.plot(x, y)\n"
   ]
  },
  {
   "cell_type": "code",
   "execution_count": 22,
   "metadata": {},
   "outputs": [
    {
     "data": {
      "text/plain": [
       "[<matplotlib.lines.Line2D at 0x7f37dec10730>]"
      ]
     },
     "execution_count": 22,
     "metadata": {},
     "output_type": "execute_result"
    },
    {
     "data": {
      "image/png": "[encoded data removed]",
      "text/plain": [
       "<Figure size 640x480 with 1 Axes>"
      ]
     },
     "metadata": {},
     "output_type": "display_data"
    }
   ],
   "source": [
    "x = np.tanh(np.linspace(-2, 2, 100))\n",
    "y = [gaussian(x, 1, 1) for x in np.tanh(np.linspace(-2, 2, 100))]\n",
    "plt.plot(x, y)\n"
   ]
  },
  {
   "cell_type": "code",
   "execution_count": 12,
   "metadata": {},
   "outputs": [
    {
     "data": {
      "text/plain": [
       "tensor(7.2477)"
      ]
     },
     "execution_count": 12,
     "metadata": {},
     "output_type": "execute_result"
    }
   ],
   "source": [
    "import torch\n",
    "\n",
    "torch.arctanh(torch.tensor(1 - 1e-6))\n"
   ]
  },
  {
   "cell_type": "code",
   "execution_count": 1,
   "metadata": {},
   "outputs": [],
   "source": [
    "import pickle\n",
    "\n",
    "with open(\"pen-human_data.pkl\", \"rb\") as fp:\n",
    "    data = pickle.load(fp)\n"
   ]
  },
  {
   "cell_type": "code",
   "execution_count": 10,
   "metadata": {},
   "outputs": [
    {
     "data": {
      "text/plain": [
       "array([ 199,  399,  599,  799,  999, 1199, 1399, 1599, 1799, 1999, 2199,\n",
       "       2399, 2599, 2799, 2999, 3199, 3399, 3599, 3799, 3999, 4199, 4399,\n",
       "       4599, 4799, 4999])"
      ]
     },
     "execution_count": 10,
     "metadata": {},
     "output_type": "execute_result"
    }
   ],
   "source": [
    "import numpy as np\n",
    "\n",
    "np.where(data[\"timeouts\"] == 1)[0]\n"
   ]
  },
  {
   "cell_type": "code",
   "execution_count": 18,
   "metadata": {},
   "outputs": [
    {
     "name": "stdout",
     "output_type": "stream",
     "text": [
      "[60.914936 60.914932 60.914936 60.914936 60.914932 60.914936 60.91493\n",
      " 60.914936 60.914932 60.914936 60.914932 60.914936 60.914932 60.914936\n",
      " 60.914932 60.914932 60.914932 60.914932 60.914936 60.914932 60.914936\n",
      " 60.914932 60.914936 60.914932 60.914936 60.914932 60.914936 60.914932\n",
      " 60.914932 60.914932 60.914936 60.914936 60.914932 60.914936 60.914932\n",
      " 60.914936 60.914932 60.914936 60.914932 60.914936 60.914932 60.914936\n",
      " 60.914936 60.914936 60.914936 60.914932 60.914936 60.914932 60.914936\n",
      " 60.914932 60.914936 60.914932 60.914936 60.914932 60.914936 60.914936\n",
      " 60.914936 60.914936 60.914932 60.914936 60.914936 60.914936 60.914932\n",
      " 60.914936 60.914932 60.914936 60.914936 60.914936 60.914936 60.914936\n",
      " 60.914936 60.914936 60.914936 60.914936 60.914936 60.914932 60.914936\n",
      " 60.914932 60.91494  60.914936 60.91494  60.914936 60.91494  60.914936\n",
      " 60.914936 60.914936 60.91494  60.91494  60.914936 60.91494  60.914936\n",
      " 60.91494  60.914936 60.91494  60.914936 60.91494  60.914936 60.91494\n",
      " 60.91494  60.91494 ]\n"
     ]
    }
   ],
   "source": [
    "np.set_printoptions(suppress=True)\n",
    "print(data[\"rewards\"][300:400])\n"
   ]
  },
  {
   "cell_type": "code",
   "execution_count": 25,
   "metadata": {},
   "outputs": [],
   "source": [
    "import pickle\n",
    "\n",
    "with open(\"walker2d_data.pkl\", \"rb\") as fp:\n",
    "    data = pickle.load(fp)\n"
   ]
  },
  {
   "cell_type": "code",
   "execution_count": 27,
   "metadata": {},
   "outputs": [
    {
     "data": {
      "text/plain": [
       "513"
      ]
     },
     "execution_count": 27,
     "metadata": {},
     "output_type": "execute_result"
    }
   ],
   "source": [
    "import numpy as np\n",
    "\n",
    "len(np.where(data[\"terminals\"] == 1)[0])\n"
   ]
  },
  {
   "cell_type": "code",
   "execution_count": 28,
   "metadata": {},
   "outputs": [
    {
     "data": {
      "text/plain": [
       "677"
      ]
     },
     "execution_count": 28,
     "metadata": {},
     "output_type": "execute_result"
    }
   ],
   "source": [
    "len(np.where(data[\"timeouts\"] == 1)[0])\n"
   ]
  },
  {
   "cell_type": "code",
   "execution_count": 1,
   "metadata": {},
   "outputs": [],
   "source": [
    "import gym"
   ]
  },
  {
   "cell_type": "code",
   "execution_count": 10,
   "metadata": {},
   "outputs": [
    {
     "name": "stdout",
     "output_type": "stream",
     "text": [
      "Import error. Trying to rebuild mujoco_py.\n"
     ]
    },
    {
     "ename": "DependencyNotInstalled",
     "evalue": "libglewegl.so: cannot open shared object file: No such file or directory. (HINT: you need to install mujoco_py, and also perform the setup instructions here: https://github.com/openai/mujoco-py/.)",
     "output_type": "error",
     "traceback": [
      "\u001b[0;31m---------------------------------------------------------------------------\u001b[0m",
      "\u001b[0;31mImportError\u001b[0m                               Traceback (most recent call last)",
      "File \u001b[0;32m/disk/scratch1/adamjelley/miniconda3/envs/CORL/lib/python3.10/site-packages/gym/envs/mujoco/mujoco_env.py:12\u001b[0m\n\u001b[1;32m     11\u001b[0m \u001b[39mtry\u001b[39;00m:\n\u001b[0;32m---> 12\u001b[0m     \u001b[39mimport\u001b[39;00m \u001b[39mmujoco_py\u001b[39;00m\n\u001b[1;32m     13\u001b[0m \u001b[39mexcept\u001b[39;00m \u001b[39mImportError\u001b[39;00m \u001b[39mas\u001b[39;00m e:\n",
      "File \u001b[0;32m/disk/scratch1/adamjelley/miniconda3/envs/CORL/lib/python3.10/site-packages/mujoco_py/__init__.py:2\u001b[0m\n\u001b[1;32m      1\u001b[0m \u001b[39m#!/usr/bin/env python\u001b[39;00m\n\u001b[0;32m----> 2\u001b[0m \u001b[39mfrom\u001b[39;00m \u001b[39mmujoco_py\u001b[39;00m\u001b[39m.\u001b[39;00m\u001b[39mbuilder\u001b[39;00m \u001b[39mimport\u001b[39;00m cymj, ignore_mujoco_warnings, functions, MujocoException\n\u001b[1;32m      3\u001b[0m \u001b[39mfrom\u001b[39;00m \u001b[39mmujoco_py\u001b[39;00m\u001b[39m.\u001b[39;00m\u001b[39mgenerated\u001b[39;00m \u001b[39mimport\u001b[39;00m const\n",
      "File \u001b[0;32m/disk/scratch1/adamjelley/miniconda3/envs/CORL/lib/python3.10/site-packages/mujoco_py/builder.py:504\u001b[0m\n\u001b[1;32m    503\u001b[0m mujoco_path \u001b[39m=\u001b[39m discover_mujoco()\n\u001b[0;32m--> 504\u001b[0m cymj \u001b[39m=\u001b[39m load_cython_ext(mujoco_path)\n\u001b[1;32m    507\u001b[0m \u001b[39m# Trick to expose all mj* functions from mujoco in mujoco_py.*\u001b[39;00m\n",
      "File \u001b[0;32m/disk/scratch1/adamjelley/miniconda3/envs/CORL/lib/python3.10/site-packages/mujoco_py/builder.py:111\u001b[0m, in \u001b[0;36mload_cython_ext\u001b[0;34m(mujoco_path)\u001b[0m\n\u001b[1;32m    110\u001b[0m         cext_so_path \u001b[39m=\u001b[39m builder\u001b[39m.\u001b[39mbuild()\n\u001b[0;32m--> 111\u001b[0m         mod \u001b[39m=\u001b[39m load_dynamic_ext(\u001b[39m'\u001b[39;49m\u001b[39mcymj\u001b[39;49m\u001b[39m'\u001b[39;49m, cext_so_path)\n\u001b[1;32m    113\u001b[0m \u001b[39mreturn\u001b[39;00m mod\n",
      "File \u001b[0;32m/disk/scratch1/adamjelley/miniconda3/envs/CORL/lib/python3.10/site-packages/mujoco_py/builder.py:130\u001b[0m, in \u001b[0;36mload_dynamic_ext\u001b[0;34m(name, path)\u001b[0m\n\u001b[1;32m    129\u001b[0m loader \u001b[39m=\u001b[39m ExtensionFileLoader(name, path)\n\u001b[0;32m--> 130\u001b[0m \u001b[39mreturn\u001b[39;00m loader\u001b[39m.\u001b[39;49mload_module()\n",
      "\u001b[0;31mImportError\u001b[0m: libglewegl.so: cannot open shared object file: No such file or directory",
      "\nDuring handling of the above exception, another exception occurred:\n",
      "\u001b[0;31mDependencyNotInstalled\u001b[0m                    Traceback (most recent call last)",
      "Cell \u001b[0;32mIn[10], line 1\u001b[0m\n\u001b[0;32m----> 1\u001b[0m gym\u001b[39m.\u001b[39;49mmake(\u001b[39m'\u001b[39;49m\u001b[39mHopper-v2\u001b[39;49m\u001b[39m'\u001b[39;49m)\n",
      "File \u001b[0;32m/disk/scratch1/adamjelley/miniconda3/envs/CORL/lib/python3.10/site-packages/gym/envs/registration.py:676\u001b[0m, in \u001b[0;36mmake\u001b[0;34m(id, **kwargs)\u001b[0m\n\u001b[1;32m    675\u001b[0m \u001b[39mdef\u001b[39;00m \u001b[39mmake\u001b[39m(\u001b[39mid\u001b[39m: \u001b[39mstr\u001b[39m, \u001b[39m*\u001b[39m\u001b[39m*\u001b[39mkwargs) \u001b[39m-\u001b[39m\u001b[39m>\u001b[39m \u001b[39m\"\u001b[39m\u001b[39mEnv\u001b[39m\u001b[39m\"\u001b[39m:\n\u001b[0;32m--> 676\u001b[0m     \u001b[39mreturn\u001b[39;00m registry\u001b[39m.\u001b[39;49mmake(\u001b[39mid\u001b[39;49m, \u001b[39m*\u001b[39;49m\u001b[39m*\u001b[39;49mkwargs)\n",
      "File \u001b[0;32m/disk/scratch1/adamjelley/miniconda3/envs/CORL/lib/python3.10/site-packages/gym/envs/registration.py:520\u001b[0m, in \u001b[0;36mEnvRegistry.make\u001b[0;34m(self, path, **kwargs)\u001b[0m\n\u001b[1;32m    518\u001b[0m spec \u001b[39m=\u001b[39m \u001b[39mself\u001b[39m\u001b[39m.\u001b[39mspec(path)\n\u001b[1;32m    519\u001b[0m \u001b[39m# Construct the environment\u001b[39;00m\n\u001b[0;32m--> 520\u001b[0m \u001b[39mreturn\u001b[39;00m spec\u001b[39m.\u001b[39;49mmake(\u001b[39m*\u001b[39;49m\u001b[39m*\u001b[39;49mkwargs)\n",
      "File \u001b[0;32m/disk/scratch1/adamjelley/miniconda3/envs/CORL/lib/python3.10/site-packages/gym/envs/registration.py:139\u001b[0m, in \u001b[0;36mEnvSpec.make\u001b[0;34m(self, **kwargs)\u001b[0m\n\u001b[1;32m    137\u001b[0m     env \u001b[39m=\u001b[39m \u001b[39mself\u001b[39m\u001b[39m.\u001b[39mentry_point(\u001b[39m*\u001b[39m\u001b[39m*\u001b[39m_kwargs)\n\u001b[1;32m    138\u001b[0m \u001b[39melse\u001b[39;00m:\n\u001b[0;32m--> 139\u001b[0m     \u001b[39mcls\u001b[39m \u001b[39m=\u001b[39m load(\u001b[39mself\u001b[39;49m\u001b[39m.\u001b[39;49mentry_point)\n\u001b[1;32m    140\u001b[0m     env \u001b[39m=\u001b[39m \u001b[39mcls\u001b[39m(\u001b[39m*\u001b[39m\u001b[39m*\u001b[39m_kwargs)\n\u001b[1;32m    142\u001b[0m \u001b[39m# Make the environment aware of which spec it came from.\u001b[39;00m\n",
      "File \u001b[0;32m/disk/scratch1/adamjelley/miniconda3/envs/CORL/lib/python3.10/site-packages/gym/envs/registration.py:55\u001b[0m, in \u001b[0;36mload\u001b[0;34m(name)\u001b[0m\n\u001b[1;32m     53\u001b[0m \u001b[39mdef\u001b[39;00m \u001b[39mload\u001b[39m(name: \u001b[39mstr\u001b[39m) \u001b[39m-\u001b[39m\u001b[39m>\u001b[39m Type:\n\u001b[1;32m     54\u001b[0m     mod_name, attr_name \u001b[39m=\u001b[39m name\u001b[39m.\u001b[39msplit(\u001b[39m\"\u001b[39m\u001b[39m:\u001b[39m\u001b[39m\"\u001b[39m)\n\u001b[0;32m---> 55\u001b[0m     mod \u001b[39m=\u001b[39m importlib\u001b[39m.\u001b[39;49mimport_module(mod_name)\n\u001b[1;32m     56\u001b[0m     fn \u001b[39m=\u001b[39m \u001b[39mgetattr\u001b[39m(mod, attr_name)\n\u001b[1;32m     57\u001b[0m     \u001b[39mreturn\u001b[39;00m fn\n",
      "File \u001b[0;32m/disk/scratch1/adamjelley/miniconda3/envs/CORL/lib/python3.10/importlib/__init__.py:126\u001b[0m, in \u001b[0;36mimport_module\u001b[0;34m(name, package)\u001b[0m\n\u001b[1;32m    124\u001b[0m             \u001b[39mbreak\u001b[39;00m\n\u001b[1;32m    125\u001b[0m         level \u001b[39m+\u001b[39m\u001b[39m=\u001b[39m \u001b[39m1\u001b[39m\n\u001b[0;32m--> 126\u001b[0m \u001b[39mreturn\u001b[39;00m _bootstrap\u001b[39m.\u001b[39;49m_gcd_import(name[level:], package, level)\n",
      "File \u001b[0;32m<frozen importlib._bootstrap>:1050\u001b[0m, in \u001b[0;36m_gcd_import\u001b[0;34m(name, package, level)\u001b[0m\n",
      "File \u001b[0;32m<frozen importlib._bootstrap>:1027\u001b[0m, in \u001b[0;36m_find_and_load\u001b[0;34m(name, import_)\u001b[0m\n",
      "File \u001b[0;32m<frozen importlib._bootstrap>:1006\u001b[0m, in \u001b[0;36m_find_and_load_unlocked\u001b[0;34m(name, import_)\u001b[0m\n",
      "File \u001b[0;32m<frozen importlib._bootstrap>:688\u001b[0m, in \u001b[0;36m_load_unlocked\u001b[0;34m(spec)\u001b[0m\n",
      "File \u001b[0;32m<frozen importlib._bootstrap_external>:883\u001b[0m, in \u001b[0;36mexec_module\u001b[0;34m(self, module)\u001b[0m\n",
      "File \u001b[0;32m<frozen importlib._bootstrap>:241\u001b[0m, in \u001b[0;36m_call_with_frames_removed\u001b[0;34m(f, *args, **kwds)\u001b[0m\n",
      "File \u001b[0;32m/disk/scratch1/adamjelley/miniconda3/envs/CORL/lib/python3.10/site-packages/gym/envs/mujoco/__init__.py:1\u001b[0m\n\u001b[0;32m----> 1\u001b[0m \u001b[39mfrom\u001b[39;00m \u001b[39mgym\u001b[39;00m\u001b[39m.\u001b[39;00m\u001b[39menvs\u001b[39;00m\u001b[39m.\u001b[39;00m\u001b[39mmujoco\u001b[39;00m\u001b[39m.\u001b[39;00m\u001b[39mmujoco_env\u001b[39;00m \u001b[39mimport\u001b[39;00m MujocoEnv\n\u001b[1;32m      3\u001b[0m \u001b[39m# ^^^^^ so that user gets the correct error\u001b[39;00m\n\u001b[1;32m      4\u001b[0m \u001b[39m# message if mujoco is not installed correctly\u001b[39;00m\n\u001b[1;32m      5\u001b[0m \u001b[39mfrom\u001b[39;00m \u001b[39mgym\u001b[39;00m\u001b[39m.\u001b[39;00m\u001b[39menvs\u001b[39;00m\u001b[39m.\u001b[39;00m\u001b[39mmujoco\u001b[39;00m\u001b[39m.\u001b[39;00m\u001b[39mant\u001b[39;00m \u001b[39mimport\u001b[39;00m AntEnv\n",
      "File \u001b[0;32m/disk/scratch1/adamjelley/miniconda3/envs/CORL/lib/python3.10/site-packages/gym/envs/mujoco/mujoco_env.py:14\u001b[0m\n\u001b[1;32m     12\u001b[0m     \u001b[39mimport\u001b[39;00m \u001b[39mmujoco_py\u001b[39;00m\n\u001b[1;32m     13\u001b[0m \u001b[39mexcept\u001b[39;00m \u001b[39mImportError\u001b[39;00m \u001b[39mas\u001b[39;00m e:\n\u001b[0;32m---> 14\u001b[0m     \u001b[39mraise\u001b[39;00m error\u001b[39m.\u001b[39mDependencyNotInstalled(\n\u001b[1;32m     15\u001b[0m         \u001b[39m\"\u001b[39m\u001b[39m{}\u001b[39;00m\u001b[39m. (HINT: you need to install mujoco_py, and also perform the setup instructions here: https://github.com/openai/mujoco-py/.)\u001b[39m\u001b[39m\"\u001b[39m\u001b[39m.\u001b[39mformat(\n\u001b[1;32m     16\u001b[0m             e\n\u001b[1;32m     17\u001b[0m         )\n\u001b[1;32m     18\u001b[0m     )\n\u001b[1;32m     20\u001b[0m DEFAULT_SIZE \u001b[39m=\u001b[39m \u001b[39m500\u001b[39m\n\u001b[1;32m     23\u001b[0m \u001b[39mdef\u001b[39;00m \u001b[39mconvert_observation_to_space\u001b[39m(observation):\n",
      "\u001b[0;31mDependencyNotInstalled\u001b[0m: libglewegl.so: cannot open shared object file: No such file or directory. (HINT: you need to install mujoco_py, and also perform the setup instructions here: https://github.com/openai/mujoco-py/.)"
     ]
    }
   ],
   "source": [
    "gym.make('Hopper-v2')"
   ]
  },
  {
   "cell_type": "code",
   "execution_count": 9,
   "metadata": {},
   "outputs": [
    {
     "name": "stdout",
     "output_type": "stream",
     "text": [
      "env: LD_LIBRARY_PATH=$LD_LIBRARY_PATH:/afs/inf.ed.ac.uk/user/s21/s2139934/.mujoco/mujoco210/bin:/usr/lib/nvidia\n"
     ]
    }
   ],
   "source": [
    "%set_env LD_LIBRARY_PATH=$LD_LIBRARY_PATH:/afs/inf.ed.ac.uk/user/s21/s2139934/.mujoco/mujoco210/bin:/usr/lib/nvidia"
   ]
  },
  {
   "cell_type": "code",
   "execution_count": null,
   "metadata": {},
   "outputs": [],
   "source": []
  }
 ],
 "metadata": {
  "kernelspec": {
   "display_name": "CORL",
   "language": "python",
   "name": "python3"
  },
  "language_info": {
   "codemirror_mode": {
    "name": "ipython",
    "version": 3
   },
   "file_extension": ".py",
   "mimetype": "text/x-python",
   "name": "python",
   "nbconvert_exporter": "python",
   "pygments_lexer": "ipython3",
   "version": "3.10.9"
  },
  "orig_nbformat": 4,
  "vscode": {
   "interpreter": {
    "hash": "173b67b242dc59c580e82c555e2ef8f010d22ca709f837bddfbc98404951b495"
   }
  }
 },
 "nbformat": 4,
 "nbformat_minor": 2
}
